{
 "cells": [
  {
   "cell_type": "code",
   "execution_count": 1,
   "id": "4d358f0b-5a84-469a-a7a1-67e36f2e9a31",
   "metadata": {},
   "outputs": [],
   "source": [
    "import os\n",
    "import glob\n",
    "import pandas as pd\n",
    "import numpy as np\n",
    "import plotly.express as px\n",
    "import plotly.graph_objects as go\n",
    "import pickle\n",
    "import sqlite3\n",
    "import gc\n",
    "from datetime import datetime\n",
    "pd.set_option('display.max_rows', 500)"
   ]
  },
  {
   "cell_type": "markdown",
   "id": "086f1213-4623-45f8-8ac5-83e84ae65853",
   "metadata": {},
   "source": [
    "### Connect to DB"
   ]
  },
  {
   "cell_type": "code",
   "execution_count": null,
   "id": "be33b2e4-a0cc-4e12-9fc5-059921d97722",
   "metadata": {},
   "outputs": [],
   "source": [
    "db_path = \"/home/shein/Documents/grad_school/research/ClusterMonitoring/data/all_data.db\""
   ]
  },
  {
   "cell_type": "code",
   "execution_count": null,
   "id": "2672a6d4-fb9f-4046-a31a-6f18ee520615",
   "metadata": {},
   "outputs": [],
   "source": [
    "con = sqlite3.connect(db_path)\n",
    "cur = con.cursor()"
   ]
  },
  {
   "cell_type": "markdown",
   "id": "4f232ed2-46be-4ea7-ac49-250e97ee2954",
   "metadata": {},
   "source": [
    "## Query Metrics"
   ]
  },
  {
   "cell_type": "markdown",
   "id": "5445ff63-c218-41f0-b512-03f109e7cc6b",
   "metadata": {},
   "source": [
    "### GPU Metrics"
   ]
  },
  {
   "cell_type": "code",
   "execution_count": null,
   "id": "c7f27725-6d17-47cb-bcf8-e8bc0128e2e7",
   "metadata": {},
   "outputs": [],
   "source": [
    "smi_util_q = \"\"\"SELECT timestamp_ms, hostname, device_id, value FROM Data \n",
    "    WHERE field_id = 203 and timestamp_ms < 1709917200000\"\"\"\n",
    "sm_active_util_q = \"\"\"SELECT timestamp_ms, hostname, device_id, value FROM Data \n",
    "    WHERE field_id = 1002 and timestamp_ms < 1709917200000\"\"\"\n",
    "occupancy_util_q = \"\"\"SELECT timestamp_ms, hostname, device_id, value FROM Data \n",
    "    WHERE field_id = 1003 and timestamp_ms < 1709917200000\"\"\"\n",
    "tensor_util_q = \"\"\"SELECT timestamp_ms, hostname, device_id, value FROM Data \n",
    "    WHERE field_id = 1004 and timestamp_ms < 1709917200000\"\"\"\n",
    "memory_bandwidth_q = \"\"\"SELECT timestamp_ms, hostname, device_id, value FROM Data \n",
    "    WHERE field_id = 1005 and timestamp_ms < 1709917200000\"\"\"\n",
    "gpu_mem_q = \"\"\"SELECT timestamp_ms, hostname, device_id, value FROM Data \n",
    "    WHERE field_id = 254 and timestamp_ms < 1709917200000\"\"\""
   ]
  },
  {
   "cell_type": "markdown",
   "id": "0eb16122-dec5-42d5-a7ef-da4d827d0ac2",
   "metadata": {},
   "source": [
    "### CPU Metrics"
   ]
  },
  {
   "cell_type": "code",
   "execution_count": null,
   "id": "48422aed-aaaa-4226-8c46-9b43a184135c",
   "metadata": {},
   "outputs": [],
   "source": [
    "cpu_util_q = \"\"\"SELECT timestamp_ms, hostname, device_id, value FROM Data \n",
    "    WHERE field_id = 1 and timestamp_ms < 1709917200000\"\"\"\n",
    "cpu_mem_q = \"\"\"SELECT timestamp_ms, hostname, device_id, value FROM Data \n",
    "    WHERE field_id = 0 and timestamp_ms < 1709917200000\"\"\""
   ]
  },
  {
   "cell_type": "markdown",
   "id": "c74bdd50-fc08-48bc-988c-3a12802067f6",
   "metadata": {},
   "source": [
    "### Fetching & dumping data in python format for later use..."
   ]
  },
  {
   "cell_type": "code",
   "execution_count": null,
   "id": "25c2002b-3925-427b-bb98-6c04802ac8a3",
   "metadata": {},
   "outputs": [],
   "source": [
    "result = cur.execute(smi_util_q)\n",
    "all_smi_util = result.fetchall()"
   ]
  },
  {
   "cell_type": "code",
   "execution_count": null,
   "id": "c8cdc12c-4680-4a4d-992a-e3b06844a05c",
   "metadata": {},
   "outputs": [],
   "source": [
    "pickle.dump(all_smi_util, open(\"all_smi_util.pkl\", \"wb\"))"
   ]
  },
  {
   "cell_type": "code",
   "execution_count": null,
   "id": "e5bc6b63-15d4-40f7-b346-bf2d770e2bb1",
   "metadata": {},
   "outputs": [],
   "source": [
    "result = cur.execute(sm_active_util_q)\n",
    "all_sm_active_util = result.fetchall()"
   ]
  },
  {
   "cell_type": "code",
   "execution_count": null,
   "id": "781d1af9-87c0-42a7-a56d-f0d6ab5da32d",
   "metadata": {},
   "outputs": [],
   "source": [
    "pickle.dump(all_sm_active_util, open(\"all_sm_active_util.pkl\", \"wb\"))"
   ]
  },
  {
   "cell_type": "code",
   "execution_count": null,
   "id": "8af8221d-7bef-404d-bf25-f4c5bc3f3d03",
   "metadata": {},
   "outputs": [],
   "source": [
    "result = cur.execute(occupancy_util_q)\n",
    "all_occupancy_util = result.fetchall()"
   ]
  },
  {
   "cell_type": "code",
   "execution_count": null,
   "id": "40646dd8-995a-4195-a0a7-81e0f3cd6bf9",
   "metadata": {},
   "outputs": [],
   "source": [
    "pickle.dump(all_occupancy_util, open(\"all_occupancy_util.pkl\", \"wb\"))"
   ]
  },
  {
   "cell_type": "code",
   "execution_count": null,
   "id": "9235ac54-8df2-4403-a793-918ab58d38b8",
   "metadata": {},
   "outputs": [],
   "source": [
    "result = cur.execute(tensor_util_q)\n",
    "all_tensor_core_util = result.fetchall()"
   ]
  },
  {
   "cell_type": "code",
   "execution_count": null,
   "id": "55f9283c-2b62-4ee5-b31c-bfa4689b6688",
   "metadata": {},
   "outputs": [],
   "source": [
    "pickle.dump(all_tensor_core_util, open(\"all_tensor_core_util.pkl\", \"wb\"))"
   ]
  },
  {
   "cell_type": "code",
   "execution_count": null,
   "id": "8b463412-ab57-4e5e-853a-05679e82d114",
   "metadata": {},
   "outputs": [],
   "source": [
    "result = cur.execute(memory_bandwidth_q)\n",
    "all_mem_band_util = result.fetchall()"
   ]
  },
  {
   "cell_type": "code",
   "execution_count": null,
   "id": "58e6f082-286a-4c7a-8c64-8292cb4b6d5a",
   "metadata": {},
   "outputs": [],
   "source": [
    "pickle.dump(all_mem_band_util, open(\"all_mem_band_util.pkl\", \"wb\"))"
   ]
  },
  {
   "cell_type": "code",
   "execution_count": null,
   "id": "282715e1-df44-4c49-8617-4486658bb23b",
   "metadata": {},
   "outputs": [],
   "source": [
    "result = cur.execute(gpu_mem_q)\n",
    "all_gpu_mem = result.fetchall()"
   ]
  },
  {
   "cell_type": "code",
   "execution_count": null,
   "id": "6634aaf7-a723-4275-9b4d-cedec9ce28b1",
   "metadata": {},
   "outputs": [],
   "source": [
    "pickle.dump(all_gpu_mem, open(\"all_gpu_mem.pkl\", \"wb\"))"
   ]
  },
  {
   "cell_type": "markdown",
   "id": "ded278ac-8da1-49f3-91ae-e96cdaf88dad",
   "metadata": {},
   "source": [
    "#### Retrieving CPU Util and Mem"
   ]
  },
  {
   "cell_type": "code",
   "execution_count": null,
   "id": "0e38ca58-763c-43d2-ad26-62fcb2cc46ec",
   "metadata": {},
   "outputs": [],
   "source": [
    "result = cur.execute(cpu_util_q)\n",
    "all_cpu_util = result.fetchall()"
   ]
  },
  {
   "cell_type": "code",
   "execution_count": null,
   "id": "d533c931-1e15-414d-a152-294ba55203fe",
   "metadata": {},
   "outputs": [],
   "source": [
    "pickle.dump(all_cpu_util, open(\"all_cpu_util.pkl\", \"wb\"))"
   ]
  },
  {
   "cell_type": "code",
   "execution_count": null,
   "id": "640253ec-f376-40e5-8a1d-b2063273daff",
   "metadata": {},
   "outputs": [],
   "source": [
    "result = cur.execute(cpu_mem_q)\n",
    "all_cpu_mem = result.fetchall()"
   ]
  },
  {
   "cell_type": "code",
   "execution_count": null,
   "id": "a5df9910-b693-4348-9ee0-6aaf675f432e",
   "metadata": {},
   "outputs": [],
   "source": [
    "pickle.dump(all_cpu_mem, open(\"all_cpu_mem.pkl\", \"wb\"))"
   ]
  },
  {
   "cell_type": "markdown",
   "id": "6a164dd1-2888-438c-a65b-b2e6151dbc2e",
   "metadata": {},
   "source": [
    "### Loading previously queried data"
   ]
  },
  {
   "cell_type": "code",
   "execution_count": null,
   "id": "8de4845a-c72a-4042-979f-bb30b1a32624",
   "metadata": {},
   "outputs": [],
   "source": [
    "all_smi_util = pickle.load(open(\"all_smi_util.pkl\", \"rb\"))"
   ]
  },
  {
   "cell_type": "code",
   "execution_count": null,
   "id": "373fc3d4-4483-40cf-bfbc-7d989045889a",
   "metadata": {},
   "outputs": [],
   "source": [
    "all_sm_active_util = pickle.load(open(\"all_sm_active_util.pkl\", \"rb\"))"
   ]
  },
  {
   "cell_type": "code",
   "execution_count": null,
   "id": "734031da-0e3a-4240-a8b1-3b940e89c336",
   "metadata": {},
   "outputs": [],
   "source": [
    "all_tensor_core_util = pickle.load(open(\"all_tensor_core_util.pkl\", \"rb\"))"
   ]
  },
  {
   "cell_type": "code",
   "execution_count": null,
   "id": "6b933f41-fa72-4307-bf61-0329cc64fb48",
   "metadata": {},
   "outputs": [],
   "source": [
    "all_mem_band_util = pickle.load(open(\"all_mem_band_util.pkl\", \"rb\"))"
   ]
  },
  {
   "cell_type": "code",
   "execution_count": null,
   "id": "dd78d6a0-e22a-441f-a4f1-84087320bc16",
   "metadata": {},
   "outputs": [],
   "source": [
    "all_occupancy_util = pickle.load(open(\"all_occupancy_util.pkl\", \"rb\"))"
   ]
  },
  {
   "cell_type": "code",
   "execution_count": null,
   "id": "6ba8287a-68bc-469b-95d5-6b839b6ac74b",
   "metadata": {},
   "outputs": [],
   "source": [
    "all_gpu_mem = pickle.load(open(\"all_gpu_mem.pkl\", \"rb\"))"
   ]
  },
  {
   "cell_type": "code",
   "execution_count": 5,
   "id": "04d5922d-3884-4a34-8b9e-485e609a7778",
   "metadata": {},
   "outputs": [],
   "source": [
    "all_cpu_mem = pickle.load(open(\"all_cpu_mem.pkl\", \"rb\"))"
   ]
  },
  {
   "cell_type": "code",
   "execution_count": 6,
   "id": "b91c588b-1d3f-4c33-8624-6e0f1c32cd5b",
   "metadata": {},
   "outputs": [],
   "source": [
    "all_cpu_util = pickle.load(open(\"all_cpu_util.pkl\", \"rb\"))"
   ]
  },
  {
   "cell_type": "markdown",
   "id": "d8088bc8-06a0-49f0-8d62-f14100d5210d",
   "metadata": {},
   "source": [
    "### Isolating Non-Idle Times"
   ]
  },
  {
   "cell_type": "code",
   "execution_count": null,
   "id": "7a4f07df-0f85-4328-abad-cfd1a3999d56",
   "metadata": {},
   "outputs": [],
   "source": [
    "non_idle_smi = {}\n",
    "workday_non_idle_smi = {}\n",
    "for r in all_smi_util:\n",
    "    if r[3] != 0:\n",
    "        non_idle_smi[(r[0], r[1], r[2])] = r[3]\n",
    "        dt = datetime.fromtimestamp(r[0] / 1e3)\n",
    "        if (dt.weekday() < 5) and (dt.hour > 8 and dt.hour < 22):\n",
    "            workday_non_idle_smi[(r[0], r[1], r[2])] = r[3]"
   ]
  },
  {
   "cell_type": "code",
   "execution_count": null,
   "id": "66c8022f-9b04-4d2b-a18c-eac4f47eed24",
   "metadata": {},
   "outputs": [],
   "source": [
    "non_idle_sm_active = {}\n",
    "workday_non_idle_sm_active = {}\n",
    "non_idle_metric_diffs = {}\n",
    "workday_non_idle_metric_diffs = {}\n",
    "for r in all_sm_active_util:\n",
    "    if (r[0], r[1], r[2]) in non_idle_smi:\n",
    "        non_idle_sm_active[(r[0], r[1], r[2])] = r[3]\n",
    "        non_idle_metric_diffs[(r[0], r[1], r[2])] = non_idle_smi[(r[0], r[1], r[2])] - r[3]\n",
    "    if (r[0], r[1], r[2]) in workday_non_idle_smi:\n",
    "        workday_non_idle_sm_active[(r[0], r[1], r[2])] = r[3]\n",
    "        workday_non_idle_metric_diffs[(r[0], r[1], r[2])] = non_idle_smi[(r[0], r[1], r[2])] - r[3]"
   ]
  },
  {
   "cell_type": "code",
   "execution_count": 7,
   "id": "cbfa166a-3a9d-4d75-a926-cc6fac78d399",
   "metadata": {},
   "outputs": [],
   "source": [
    "def filter_node_non_idle(cpu_records, non_idle_smi):\n",
    "    non_idle_node = {}\n",
    "    ## hardcoding 4 devices\n",
    "    n_devices = 4\n",
    "    for r in cpu_records:\n",
    "        ## only need one of the devices to be non-idle to count\n",
    "        any_dev_active = False\n",
    "        for k in range(n_devices):\n",
    "            if (r[0], r[1], k) in non_idle_smi:\n",
    "                any_dev_active = True\n",
    "                break\n",
    "        if any_dev_active:\n",
    "            non_idle_node[(r[0], r[1], r[2])] = r[3]\n",
    "    return non_idle_node"
   ]
  },
  {
   "cell_type": "markdown",
   "id": "b7c32ed7-49d9-4957-8b54-e4e61f865102",
   "metadata": {},
   "source": [
    "## Dumping for later anaylysis..."
   ]
  },
  {
   "cell_type": "markdown",
   "id": "8e7fc493-1afe-4bb3-8292-924360f40a10",
   "metadata": {},
   "source": [
    "### Extracting samples only when SMI > 0 (non-idle)"
   ]
  },
  {
   "cell_type": "code",
   "execution_count": null,
   "id": "c57a295b-42a6-4c96-ba94-9d72b5f92511",
   "metadata": {},
   "outputs": [],
   "source": [
    "pickle.dump(non_idle_smi, open(\"non_idle_smi.pkl\", \"wb\"))\n",
    "pickle.dump(non_idle_sm_active, open(\"non_idle_sm_active.pkl\", \"wb\"))\n",
    "pickle.dump(non_idle_metric_diffs, open(\"non_idle_metric_diffs.pkl\", \"wb\"))"
   ]
  },
  {
   "cell_type": "markdown",
   "id": "c12099f0-8429-4965-9c8b-4b946adb253c",
   "metadata": {},
   "source": [
    "### Further filtering for weekdays between 8am and 10pm"
   ]
  },
  {
   "cell_type": "code",
   "execution_count": null,
   "id": "70707ae0-d977-49f1-8161-2b7349024db5",
   "metadata": {},
   "outputs": [],
   "source": [
    "pickle.dump(workday_non_idle_smi, open(\"workday_non_idle_smi.pkl\", \"wb\"))\n",
    "pickle.dump(workday_non_idle_sm_active, open(\"workday_non_idle_sm_active.pkl\", \"wb\"))\n",
    "pickle.dump(workday_non_idle_metric_diffs, open(\"workday_non_idle_metric_diffs.pkl\", \"wb\"))"
   ]
  },
  {
   "cell_type": "markdown",
   "id": "f91b52a8-2d63-42e4-86cb-f6981513cc1f",
   "metadata": {},
   "source": [
    "### Loading"
   ]
  },
  {
   "cell_type": "code",
   "execution_count": 3,
   "id": "54aac10a-6055-4dfd-8a5b-835d7aede105",
   "metadata": {},
   "outputs": [],
   "source": [
    "workday_smi = pickle.load(open(\"workday_non_idle_smi.pkl\", \"rb\"))\n",
    "workday_smi_vals = np.array([v for _, v in workday_smi.items()])"
   ]
  },
  {
   "cell_type": "code",
   "execution_count": 4,
   "id": "26940cf6-4003-4073-8fe6-5281820a593f",
   "metadata": {},
   "outputs": [],
   "source": [
    "smi = pickle.load(open(\"non_idle_smi.pkl\", \"rb\"))\n",
    "smi_vals = np.array([v for _, v in smi.items()])"
   ]
  },
  {
   "cell_type": "code",
   "execution_count": null,
   "id": "f8716875-cf34-4028-8909-4f1921491ab6",
   "metadata": {},
   "outputs": [],
   "source": [
    "workday_sm_active = pickle.load(open(\"workday_non_idle_sm_active.pkl\", \"rb\"))\n",
    "workday_sm_active_vals = np.array([v for _, v in workday_sm_active.items()])"
   ]
  },
  {
   "cell_type": "code",
   "execution_count": null,
   "id": "4eba709c-d29b-44fb-babc-5a3a49e8ce29",
   "metadata": {},
   "outputs": [],
   "source": [
    "sm_active = pickle.load(open(\"non_idle_sm_active.pkl\", \"rb\"))\n",
    "sm_active_vals = np.array([v for _, v in sm_active.items()])"
   ]
  },
  {
   "cell_type": "code",
   "execution_count": null,
   "id": "08728f15-b982-4ac5-b4ed-e5bbbb19543d",
   "metadata": {},
   "outputs": [],
   "source": [
    "workday_metric_diffs = pickle.load(open(\"workday_non_idle_metric_diffs.pkl\", \"rb\"))\n",
    "workday_metric_diffs_vals = np.array([v for _, v in workday_metric_diffs.items()])"
   ]
  },
  {
   "cell_type": "code",
   "execution_count": null,
   "id": "2aa5bfb9-62a7-4a75-aa7a-6cfc0b8ed042",
   "metadata": {},
   "outputs": [],
   "source": [
    "metric_diffs = pickle.load(open(\"non_idle_metric_diffs.pkl\", \"rb\"))\n",
    "metric_diffs_vals = np.array([v for _, v in metric_diffs.items()])"
   ]
  },
  {
   "cell_type": "markdown",
   "id": "202ab9de-04c3-4272-8288-020929c94470",
   "metadata": {},
   "source": [
    "#### Doing more workday filtering on previously queried results"
   ]
  },
  {
   "cell_type": "code",
   "execution_count": null,
   "id": "62118960-3146-4aee-bb3b-258494db78c8",
   "metadata": {},
   "outputs": [],
   "source": [
    "def workday_filtering(vals, workday_smi):\n",
    "    workday = {}\n",
    "    for r in vals:\n",
    "        if (r[0], r[1], r[2]) in workday_smi:\n",
    "            workday[(r[0], r[1], r[2])] = r[3]\n",
    "    return workday"
   ]
  },
  {
   "cell_type": "code",
   "execution_count": null,
   "id": "c1651dce-4e4f-47a5-b462-94858e6fb3d3",
   "metadata": {},
   "outputs": [],
   "source": [
    "workday_tensor_core = workday_filtering(all_tensor_core_util, workday_smi)\n",
    "workday_occupancy = workday_filtering(all_occupancy_util, workday_smi)\n",
    "workday_mem_band = workday_filtering(all_mem_band_util, workday_smi)"
   ]
  },
  {
   "cell_type": "code",
   "execution_count": null,
   "id": "ffbf0d5a-e6da-46b4-a3b6-07f6ce95b2aa",
   "metadata": {},
   "outputs": [],
   "source": [
    "workday_gpu_mem = workday_filtering(all_gpu_mem, workday_smi)"
   ]
  },
  {
   "cell_type": "code",
   "execution_count": null,
   "id": "ad1bcf2a-6b4a-4e4b-b39b-2e9e1c9a0a1e",
   "metadata": {},
   "outputs": [],
   "source": [
    "pickle.dump(workday_tensor_core, open(\"workday_tensor_core_util.pkl\", \"wb\"))\n",
    "pickle.dump(workday_occupancy, open(\"workday_occupancy_util.pkl\", \"wb\"))\n",
    "pickle.dump(workday_mem_band, open(\"workday_mem_band_util.pkl\", \"wb\"))"
   ]
  },
  {
   "cell_type": "code",
   "execution_count": null,
   "id": "71b84525-6b2c-4e1e-887e-d1e7ebbc2035",
   "metadata": {},
   "outputs": [],
   "source": [
    "pickle.dump(workday_gpu_mem, open(\"workday_gpu_mem.pkl\", \"wb\"))"
   ]
  },
  {
   "cell_type": "code",
   "execution_count": null,
   "id": "aef22acf-45ae-44e1-8585-66936a1b2ead",
   "metadata": {},
   "outputs": [],
   "source": [
    "workday_tensor_core_vals = np.array([v for _, v in workday_tensor_core.items()])"
   ]
  },
  {
   "cell_type": "code",
   "execution_count": null,
   "id": "8b120ec3-02ec-48f8-93e3-93aa31f6ae35",
   "metadata": {},
   "outputs": [],
   "source": [
    "workday_occupancy_vals = np.array([v for _, v in workday_occupancy.items()])\n",
    "workday_mem_band_vals = np.array([v for _, v in workday_mem_band.items()])"
   ]
  },
  {
   "cell_type": "code",
   "execution_count": null,
   "id": "d5268722-ce3d-451e-897e-da9542204a3e",
   "metadata": {},
   "outputs": [],
   "source": [
    "workday_gpu_mem_vals = np.array([v for _, v in workday_gpu_mem.items()])"
   ]
  },
  {
   "cell_type": "markdown",
   "id": "607570a2-ee26-4ad5-ab09-c5878d555cc3",
   "metadata": {},
   "source": [
    "## Retrieving Filtered CPU Metrics\n",
    "- Here we count \"non-idle\" meaning at least one device has non-zero SMI at the record timestamp"
   ]
  },
  {
   "cell_type": "code",
   "execution_count": 8,
   "id": "7159785c-8aa2-4e15-a6e7-be2c38d12f07",
   "metadata": {},
   "outputs": [],
   "source": [
    "workday_cpu_util = filter_node_non_idle(all_cpu_util, workday_smi)\n",
    "cpu_util = filter_node_non_idle(all_cpu_util, smi)"
   ]
  },
  {
   "cell_type": "code",
   "execution_count": 24,
   "id": "ea4e765c-5a4a-4102-b018-8ff78b6fb171",
   "metadata": {},
   "outputs": [],
   "source": [
    "unique_hosts = set([k[1] for k, _ in workday_cpu_util.items()])"
   ]
  },
  {
   "cell_type": "code",
   "execution_count": 26,
   "id": "dcb44070-523d-4245-ac57-65850fed1f4f",
   "metadata": {},
   "outputs": [],
   "source": [
    "mem_capacities = {\"della-l08g7\": 1024000, \"della-l09g1\": 1024000, \"della-l09g2\": 1024000, \"della-l09g3\": 1024000}"
   ]
  },
  {
   "cell_type": "code",
   "execution_count": 13,
   "id": "ea6c807b-4614-4e07-8149-29ba9c85561d",
   "metadata": {},
   "outputs": [],
   "source": [
    "workday_cpu_util_vals = np.array([v for _, v in workday_cpu_util.items()])"
   ]
  },
  {
   "cell_type": "code",
   "execution_count": 9,
   "id": "2cc12d2e-6c31-4417-ba59-e84b445e5bd8",
   "metadata": {},
   "outputs": [],
   "source": [
    "pickle.dump(workday_cpu_util, open(\"workday_cpu_util.pkl\", \"wb\"))\n",
    "pickle.dump(cpu_util, open(\"cpu_util.pkl\", \"wb\"))"
   ]
  },
  {
   "cell_type": "code",
   "execution_count": 10,
   "id": "8b009867-9fc7-42bf-814e-de63f90edb2d",
   "metadata": {},
   "outputs": [],
   "source": [
    "workday_cpu_mem = filter_node_non_idle(all_cpu_mem, workday_smi)\n",
    "cpu_mem = filter_node_non_idle(all_cpu_mem, smi)"
   ]
  },
  {
   "cell_type": "code",
   "execution_count": 39,
   "id": "7cf2f77d-c5c3-439a-ba72-468822599f20",
   "metadata": {},
   "outputs": [],
   "source": [
    "## these are TB nodes\n",
    "## numerator in free MB so multiply by 2^20 to cancel\n",
    "## 1 - free to get util\n",
    "## multiply by 100 to stay consisent\n",
    "workday_cpu_mem_vals = 100 * (1 - (np.minimum(1, np.array([v for _, v in workday_cpu_mem.items()]) * (1 << 20) / (1 << 40))))"
   ]
  },
  {
   "cell_type": "code",
   "execution_count": 42,
   "id": "0177c7e6-db35-4e00-9124-355d1bf2549b",
   "metadata": {},
   "outputs": [
    {
     "data": {
      "text/plain": [
       "99.02181625366211"
      ]
     },
     "execution_count": 42,
     "metadata": {},
     "output_type": "execute_result"
    }
   ],
   "source": [
    "max(workday_cpu_mem_vals)"
   ]
  },
  {
   "cell_type": "code",
   "execution_count": 11,
   "id": "51ab9ddc-52b4-40a1-9ad9-46440816fa77",
   "metadata": {},
   "outputs": [],
   "source": [
    "pickle.dump(workday_cpu_mem, open(\"workday_cpu_mem.pkl\", \"wb\"))\n",
    "pickle.dump(cpu_mem, open(\"cpu_mem.pkl\", \"wb\"))"
   ]
  },
  {
   "cell_type": "markdown",
   "id": "0242cfef-cebc-4553-813b-6600b3a5e31a",
   "metadata": {},
   "source": [
    "# Plotting Histograms"
   ]
  },
  {
   "cell_type": "code",
   "execution_count": 19,
   "id": "830eb5d9-8574-459f-afe2-2f234a353adc",
   "metadata": {},
   "outputs": [],
   "source": [
    "def create_hist(vals_list, names, colors, title, x_title = \"Utilization %\", y_title = \"Density\", y_range=[0,1], bins = np.arange(0, 101, 5)):\n",
    "    bin_names = [\"[\" + str(bins[i]) + \", \" + str(bins[i + 1]) + \")\" for i in range(len(bins) - 1)]\n",
    "    bin_names[-1] = bin_names[-1][:-1] + \"]\"\n",
    "    fig = go.Figure()\n",
    "    for i in range(len(vals_list)):\n",
    "        vals = vals_list[i]\n",
    "        name, color = names[i], colors[i]\n",
    "        ## get the distribution\n",
    "        counts, _ = np.histogram(vals, bins)\n",
    "        density = counts / sum(counts)\n",
    "        ## plot the histogram\n",
    "        fig.add_trace(go.Bar(x=bin_names,\n",
    "                             y=density,\n",
    "                             name=name,\n",
    "                             text=density,\n",
    "                             textposition=\"outside\",\n",
    "                             texttemplate=\"%{text:.2f}\",\n",
    "                             marker={\"color\":color}))\n",
    "\n",
    "    fig.update_layout(\n",
    "            xaxis = {\"title\": x_title},\n",
    "            yaxis = {\"title\": y_title, \"range\": y_range},\n",
    "            title = title\n",
    "    )\n",
    "    return fig"
   ]
  },
  {
   "cell_type": "markdown",
   "id": "b90567cd-36f2-4b85-86aa-7ede6a37040d",
   "metadata": {},
   "source": [
    "## GPU Plots"
   ]
  },
  {
   "cell_type": "code",
   "execution_count": null,
   "id": "40d0e480-6a31-49bc-9805-3dafe99d39c5",
   "metadata": {
    "scrolled": true
   },
   "outputs": [],
   "source": [
    "vals_list = [workday_metric_diffs_vals]\n",
    "names = [\"Raw Metric Difference\"]\n",
    "colors = [\"violet\"]\n",
    "title = \"Difference betewen Utilization Metrics at Non-Idle times. Feb 15 - Mar 8 (8am - 10pm, weekdays). 44 million records (from 4 nodes x 4 GPUs)\"\n",
    "x_title = \"Nvidia-SMI % minus DCGM's SM Active %\"\n",
    "y_range = [0, .3]\n",
    "workday_metric_diffs_fig = create_hist(vals_list, names, colors, title, x_title=x_title, y_range=y_range)\n",
    "workday_metric_diffs_fig.show()"
   ]
  },
  {
   "cell_type": "code",
   "execution_count": null,
   "id": "dd98fdfb-cbcb-4070-a423-f706e9418dc0",
   "metadata": {},
   "outputs": [],
   "source": [
    "vals_list = [workday_smi_vals, workday_sm_active_vals]\n",
    "names = [\"Nvidia-SMI\", \"SM Active\"]\n",
    "colors = [\"blue\", \"red\"]\n",
    "title = \"Utilization Metrics at Non-Idle times. Feb 15 - Mar 8 (8am - 10pm, weekdays). 44 million records (from 4 nodes x 4 GPUs)\"\n",
    "y_range = [0, .65]\n",
    "workday_utils_fig = create_hist(vals_list, names, colors, title, y_range=y_range)\n",
    "workday_utils_fig.show()"
   ]
  },
  {
   "cell_type": "code",
   "execution_count": null,
   "id": "82046fa6-add2-44eb-be2c-6acc3d5d4688",
   "metadata": {},
   "outputs": [],
   "source": [
    "vals_list = [workday_tensor_core_vals]\n",
    "names = [\"Tensor Core Active\"]\n",
    "colors = [\"green\"]\n",
    "title = \"Tensor Core Active % at Non-Idle times. Feb 15 - Mar 8 (8am - 10pm, weekdays). 44 million records (from 4 nodes x 4 GPUs)\"\n",
    "y_range = [0, .3]\n",
    "workday_tensor_core_fig = create_hist(vals_list, names, colors, title, y_range=y_range)\n",
    "workday_tensor_core_fig.show()"
   ]
  },
  {
   "cell_type": "code",
   "execution_count": null,
   "id": "9eba0ca2-dc51-43a5-bad6-35b54b2c33d2",
   "metadata": {},
   "outputs": [],
   "source": [
    "vals_list = [workday_mem_band_vals]\n",
    "names = [\"Memory Bandwidth\"]\n",
    "colors = [\"darkslategray\"]\n",
    "y_range = [0, .3]\n",
    "title = \"Memory Bandwidth Utilizaiton at Non-Idle times. Feb 15 - Mar 8 (8am - 10pm, weekdays). 44 million records (from 4 nodes x 4 GPUs)\"\n",
    "workday_mem_band_fig = create_hist(vals_list, names, colors, title, y_range=y_range)\n",
    "workday_mem_band_fig.show()"
   ]
  },
  {
   "cell_type": "code",
   "execution_count": null,
   "id": "1064e8c5-8788-4b4e-b810-12415b78d1e1",
   "metadata": {},
   "outputs": [],
   "source": [
    "vals_list = [workday_occupancy_vals]\n",
    "names = [\"Occupancy\"]\n",
    "colors = [\"darkorange\"]\n",
    "title = \"Occupancy at Non-Idle times. Feb 15 - Mar 8 (8am - 10pm, weekdays). 44 million records (from 4 nodes x 4 GPUs)\"\n",
    "y_range = [0, .3]\n",
    "workday_occupancy_fig = create_hist(vals_list, names, colors, title, y_range=y_range)\n",
    "workday_occupancy_fig.show()"
   ]
  },
  {
   "cell_type": "code",
   "execution_count": null,
   "id": "a71afe75-42ed-416d-a676-4cf053f794cc",
   "metadata": {},
   "outputs": [],
   "source": [
    "vals_list = [workday_gpu_mem_vals]\n",
    "names = [\"GPU Memory\"]\n",
    "colors = [\"black\"]\n",
    "title = \"GPU Memory at Non-Idle times. Feb 15 - Mar 8 (8am - 10pm, weekdays). 44 million records (from 4 nodes x 4 GPUs)\"\n",
    "y_range = [0, .3]\n",
    "workday_gpu_mem_fig = create_hist(vals_list, names, colors, title, y_range=y_range)\n",
    "workday_gpu_mem_fig.show()"
   ]
  },
  {
   "cell_type": "code",
   "execution_count": 17,
   "id": "edcb587c-52b4-412f-9a34-6ddbcd11add4",
   "metadata": {},
   "outputs": [
    {
     "name": "stdout",
     "output_type": "stream",
     "text": [
      "15149821\n"
     ]
    }
   ],
   "source": [
    "print(len(workday_cpu_mem_vals))"
   ]
  },
  {
   "cell_type": "markdown",
   "id": "53ac88da-3708-443f-b35f-21b9161a0ceb",
   "metadata": {},
   "source": [
    "## CPU Plots"
   ]
  },
  {
   "cell_type": "code",
   "execution_count": 54,
   "id": "662f54a5-e0a9-41d0-84de-07a4e12cb011",
   "metadata": {},
   "outputs": [
    {
     "data": {
      "application/vnd.plotly.v1+json": {
       "config": {
        "plotlyServerURL": "https://plot.ly"
       },
       "data": [
        {
         "marker": {
          "color": "purple"
         },
         "name": "System Memory",
         "text": [
          0.7781909766458627,
          0.17727364567541756,
          0.01679650208408403,
          0.013673362873396325,
          0.00811052487022784,
          0.004846855946350786,
          0.0011080658972802385,
          0,
          0,
          0,
          0,
          0,
          0,
          0,
          0,
          0,
          0,
          0,
          0,
          6.600738054924874e-08
         ],
         "textposition": "outside",
         "texttemplate": "%{text:.2f}",
         "type": "bar",
         "x": [
          "[0, 5)",
          "[5, 10)",
          "[10, 15)",
          "[15, 20)",
          "[20, 25)",
          "[25, 30)",
          "[30, 35)",
          "[35, 40)",
          "[40, 45)",
          "[45, 50)",
          "[50, 55)",
          "[55, 60)",
          "[60, 65)",
          "[65, 70)",
          "[70, 75)",
          "[75, 80)",
          "[80, 85)",
          "[85, 90)",
          "[90, 95)",
          "[95, 100]"
         ],
         "y": [
          0.7781909766458627,
          0.17727364567541756,
          0.01679650208408403,
          0.013673362873396325,
          0.00811052487022784,
          0.004846855946350786,
          0.0011080658972802385,
          0,
          0,
          0,
          0,
          0,
          0,
          0,
          0,
          0,
          0,
          0,
          0,
          6.600738054924874e-08
         ]
        }
       ],
       "layout": {
        "autosize": true,
        "template": {
         "data": {
          "bar": [
           {
            "error_x": {
             "color": "#2a3f5f"
            },
            "error_y": {
             "color": "#2a3f5f"
            },
            "marker": {
             "line": {
              "color": "#E5ECF6",
              "width": 0.5
             },
             "pattern": {
              "fillmode": "overlay",
              "size": 10,
              "solidity": 0.2
             }
            },
            "type": "bar"
           }
          ],
          "barpolar": [
           {
            "marker": {
             "line": {
              "color": "#E5ECF6",
              "width": 0.5
             },
             "pattern": {
              "fillmode": "overlay",
              "size": 10,
              "solidity": 0.2
             }
            },
            "type": "barpolar"
           }
          ],
          "carpet": [
           {
            "aaxis": {
             "endlinecolor": "#2a3f5f",
             "gridcolor": "white",
             "linecolor": "white",
             "minorgridcolor": "white",
             "startlinecolor": "#2a3f5f"
            },
            "baxis": {
             "endlinecolor": "#2a3f5f",
             "gridcolor": "white",
             "linecolor": "white",
             "minorgridcolor": "white",
             "startlinecolor": "#2a3f5f"
            },
            "type": "carpet"
           }
          ],
          "choropleth": [
           {
            "colorbar": {
             "outlinewidth": 0,
             "ticks": ""
            },
            "type": "choropleth"
           }
          ],
          "contour": [
           {
            "colorbar": {
             "outlinewidth": 0,
             "ticks": ""
            },
            "colorscale": [
             [
              0,
              "#0d0887"
             ],
             [
              0.1111111111111111,
              "#46039f"
             ],
             [
              0.2222222222222222,
              "#7201a8"
             ],
             [
              0.3333333333333333,
              "#9c179e"
             ],
             [
              0.4444444444444444,
              "#bd3786"
             ],
             [
              0.5555555555555556,
              "#d8576b"
             ],
             [
              0.6666666666666666,
              "#ed7953"
             ],
             [
              0.7777777777777778,
              "#fb9f3a"
             ],
             [
              0.8888888888888888,
              "#fdca26"
             ],
             [
              1,
              "#f0f921"
             ]
            ],
            "type": "contour"
           }
          ],
          "contourcarpet": [
           {
            "colorbar": {
             "outlinewidth": 0,
             "ticks": ""
            },
            "type": "contourcarpet"
           }
          ],
          "heatmap": [
           {
            "colorbar": {
             "outlinewidth": 0,
             "ticks": ""
            },
            "colorscale": [
             [
              0,
              "#0d0887"
             ],
             [
              0.1111111111111111,
              "#46039f"
             ],
             [
              0.2222222222222222,
              "#7201a8"
             ],
             [
              0.3333333333333333,
              "#9c179e"
             ],
             [
              0.4444444444444444,
              "#bd3786"
             ],
             [
              0.5555555555555556,
              "#d8576b"
             ],
             [
              0.6666666666666666,
              "#ed7953"
             ],
             [
              0.7777777777777778,
              "#fb9f3a"
             ],
             [
              0.8888888888888888,
              "#fdca26"
             ],
             [
              1,
              "#f0f921"
             ]
            ],
            "type": "heatmap"
           }
          ],
          "heatmapgl": [
           {
            "colorbar": {
             "outlinewidth": 0,
             "ticks": ""
            },
            "colorscale": [
             [
              0,
              "#0d0887"
             ],
             [
              0.1111111111111111,
              "#46039f"
             ],
             [
              0.2222222222222222,
              "#7201a8"
             ],
             [
              0.3333333333333333,
              "#9c179e"
             ],
             [
              0.4444444444444444,
              "#bd3786"
             ],
             [
              0.5555555555555556,
              "#d8576b"
             ],
             [
              0.6666666666666666,
              "#ed7953"
             ],
             [
              0.7777777777777778,
              "#fb9f3a"
             ],
             [
              0.8888888888888888,
              "#fdca26"
             ],
             [
              1,
              "#f0f921"
             ]
            ],
            "type": "heatmapgl"
           }
          ],
          "histogram": [
           {
            "marker": {
             "pattern": {
              "fillmode": "overlay",
              "size": 10,
              "solidity": 0.2
             }
            },
            "type": "histogram"
           }
          ],
          "histogram2d": [
           {
            "colorbar": {
             "outlinewidth": 0,
             "ticks": ""
            },
            "colorscale": [
             [
              0,
              "#0d0887"
             ],
             [
              0.1111111111111111,
              "#46039f"
             ],
             [
              0.2222222222222222,
              "#7201a8"
             ],
             [
              0.3333333333333333,
              "#9c179e"
             ],
             [
              0.4444444444444444,
              "#bd3786"
             ],
             [
              0.5555555555555556,
              "#d8576b"
             ],
             [
              0.6666666666666666,
              "#ed7953"
             ],
             [
              0.7777777777777778,
              "#fb9f3a"
             ],
             [
              0.8888888888888888,
              "#fdca26"
             ],
             [
              1,
              "#f0f921"
             ]
            ],
            "type": "histogram2d"
           }
          ],
          "histogram2dcontour": [
           {
            "colorbar": {
             "outlinewidth": 0,
             "ticks": ""
            },
            "colorscale": [
             [
              0,
              "#0d0887"
             ],
             [
              0.1111111111111111,
              "#46039f"
             ],
             [
              0.2222222222222222,
              "#7201a8"
             ],
             [
              0.3333333333333333,
              "#9c179e"
             ],
             [
              0.4444444444444444,
              "#bd3786"
             ],
             [
              0.5555555555555556,
              "#d8576b"
             ],
             [
              0.6666666666666666,
              "#ed7953"
             ],
             [
              0.7777777777777778,
              "#fb9f3a"
             ],
             [
              0.8888888888888888,
              "#fdca26"
             ],
             [
              1,
              "#f0f921"
             ]
            ],
            "type": "histogram2dcontour"
           }
          ],
          "mesh3d": [
           {
            "colorbar": {
             "outlinewidth": 0,
             "ticks": ""
            },
            "type": "mesh3d"
           }
          ],
          "parcoords": [
           {
            "line": {
             "colorbar": {
              "outlinewidth": 0,
              "ticks": ""
             }
            },
            "type": "parcoords"
           }
          ],
          "pie": [
           {
            "automargin": true,
            "type": "pie"
           }
          ],
          "scatter": [
           {
            "fillpattern": {
             "fillmode": "overlay",
             "size": 10,
             "solidity": 0.2
            },
            "type": "scatter"
           }
          ],
          "scatter3d": [
           {
            "line": {
             "colorbar": {
              "outlinewidth": 0,
              "ticks": ""
             }
            },
            "marker": {
             "colorbar": {
              "outlinewidth": 0,
              "ticks": ""
             }
            },
            "type": "scatter3d"
           }
          ],
          "scattercarpet": [
           {
            "marker": {
             "colorbar": {
              "outlinewidth": 0,
              "ticks": ""
             }
            },
            "type": "scattercarpet"
           }
          ],
          "scattergeo": [
           {
            "marker": {
             "colorbar": {
              "outlinewidth": 0,
              "ticks": ""
             }
            },
            "type": "scattergeo"
           }
          ],
          "scattergl": [
           {
            "marker": {
             "colorbar": {
              "outlinewidth": 0,
              "ticks": ""
             }
            },
            "type": "scattergl"
           }
          ],
          "scattermapbox": [
           {
            "marker": {
             "colorbar": {
              "outlinewidth": 0,
              "ticks": ""
             }
            },
            "type": "scattermapbox"
           }
          ],
          "scatterpolar": [
           {
            "marker": {
             "colorbar": {
              "outlinewidth": 0,
              "ticks": ""
             }
            },
            "type": "scatterpolar"
           }
          ],
          "scatterpolargl": [
           {
            "marker": {
             "colorbar": {
              "outlinewidth": 0,
              "ticks": ""
             }
            },
            "type": "scatterpolargl"
           }
          ],
          "scatterternary": [
           {
            "marker": {
             "colorbar": {
              "outlinewidth": 0,
              "ticks": ""
             }
            },
            "type": "scatterternary"
           }
          ],
          "surface": [
           {
            "colorbar": {
             "outlinewidth": 0,
             "ticks": ""
            },
            "colorscale": [
             [
              0,
              "#0d0887"
             ],
             [
              0.1111111111111111,
              "#46039f"
             ],
             [
              0.2222222222222222,
              "#7201a8"
             ],
             [
              0.3333333333333333,
              "#9c179e"
             ],
             [
              0.4444444444444444,
              "#bd3786"
             ],
             [
              0.5555555555555556,
              "#d8576b"
             ],
             [
              0.6666666666666666,
              "#ed7953"
             ],
             [
              0.7777777777777778,
              "#fb9f3a"
             ],
             [
              0.8888888888888888,
              "#fdca26"
             ],
             [
              1,
              "#f0f921"
             ]
            ],
            "type": "surface"
           }
          ],
          "table": [
           {
            "cells": {
             "fill": {
              "color": "#EBF0F8"
             },
             "line": {
              "color": "white"
             }
            },
            "header": {
             "fill": {
              "color": "#C8D4E3"
             },
             "line": {
              "color": "white"
             }
            },
            "type": "table"
           }
          ]
         },
         "layout": {
          "annotationdefaults": {
           "arrowcolor": "#2a3f5f",
           "arrowhead": 0,
           "arrowwidth": 1
          },
          "autotypenumbers": "strict",
          "coloraxis": {
           "colorbar": {
            "outlinewidth": 0,
            "ticks": ""
           }
          },
          "colorscale": {
           "diverging": [
            [
             0,
             "#8e0152"
            ],
            [
             0.1,
             "#c51b7d"
            ],
            [
             0.2,
             "#de77ae"
            ],
            [
             0.3,
             "#f1b6da"
            ],
            [
             0.4,
             "#fde0ef"
            ],
            [
             0.5,
             "#f7f7f7"
            ],
            [
             0.6,
             "#e6f5d0"
            ],
            [
             0.7,
             "#b8e186"
            ],
            [
             0.8,
             "#7fbc41"
            ],
            [
             0.9,
             "#4d9221"
            ],
            [
             1,
             "#276419"
            ]
           ],
           "sequential": [
            [
             0,
             "#0d0887"
            ],
            [
             0.1111111111111111,
             "#46039f"
            ],
            [
             0.2222222222222222,
             "#7201a8"
            ],
            [
             0.3333333333333333,
             "#9c179e"
            ],
            [
             0.4444444444444444,
             "#bd3786"
            ],
            [
             0.5555555555555556,
             "#d8576b"
            ],
            [
             0.6666666666666666,
             "#ed7953"
            ],
            [
             0.7777777777777778,
             "#fb9f3a"
            ],
            [
             0.8888888888888888,
             "#fdca26"
            ],
            [
             1,
             "#f0f921"
            ]
           ],
           "sequentialminus": [
            [
             0,
             "#0d0887"
            ],
            [
             0.1111111111111111,
             "#46039f"
            ],
            [
             0.2222222222222222,
             "#7201a8"
            ],
            [
             0.3333333333333333,
             "#9c179e"
            ],
            [
             0.4444444444444444,
             "#bd3786"
            ],
            [
             0.5555555555555556,
             "#d8576b"
            ],
            [
             0.6666666666666666,
             "#ed7953"
            ],
            [
             0.7777777777777778,
             "#fb9f3a"
            ],
            [
             0.8888888888888888,
             "#fdca26"
            ],
            [
             1,
             "#f0f921"
            ]
           ]
          },
          "colorway": [
           "#636efa",
           "#EF553B",
           "#00cc96",
           "#ab63fa",
           "#FFA15A",
           "#19d3f3",
           "#FF6692",
           "#B6E880",
           "#FF97FF",
           "#FECB52"
          ],
          "font": {
           "color": "#2a3f5f"
          },
          "geo": {
           "bgcolor": "white",
           "lakecolor": "white",
           "landcolor": "#E5ECF6",
           "showlakes": true,
           "showland": true,
           "subunitcolor": "white"
          },
          "hoverlabel": {
           "align": "left"
          },
          "hovermode": "closest",
          "mapbox": {
           "style": "light"
          },
          "paper_bgcolor": "white",
          "plot_bgcolor": "#E5ECF6",
          "polar": {
           "angularaxis": {
            "gridcolor": "white",
            "linecolor": "white",
            "ticks": ""
           },
           "bgcolor": "#E5ECF6",
           "radialaxis": {
            "gridcolor": "white",
            "linecolor": "white",
            "ticks": ""
           }
          },
          "scene": {
           "xaxis": {
            "backgroundcolor": "#E5ECF6",
            "gridcolor": "white",
            "gridwidth": 2,
            "linecolor": "white",
            "showbackground": true,
            "ticks": "",
            "zerolinecolor": "white"
           },
           "yaxis": {
            "backgroundcolor": "#E5ECF6",
            "gridcolor": "white",
            "gridwidth": 2,
            "linecolor": "white",
            "showbackground": true,
            "ticks": "",
            "zerolinecolor": "white"
           },
           "zaxis": {
            "backgroundcolor": "#E5ECF6",
            "gridcolor": "white",
            "gridwidth": 2,
            "linecolor": "white",
            "showbackground": true,
            "ticks": "",
            "zerolinecolor": "white"
           }
          },
          "shapedefaults": {
           "line": {
            "color": "#2a3f5f"
           }
          },
          "ternary": {
           "aaxis": {
            "gridcolor": "white",
            "linecolor": "white",
            "ticks": ""
           },
           "baxis": {
            "gridcolor": "white",
            "linecolor": "white",
            "ticks": ""
           },
           "bgcolor": "#E5ECF6",
           "caxis": {
            "gridcolor": "white",
            "linecolor": "white",
            "ticks": ""
           }
          },
          "title": {
           "x": 0.05
          },
          "xaxis": {
           "automargin": true,
           "gridcolor": "white",
           "linecolor": "white",
           "ticks": "",
           "title": {
            "standoff": 15
           },
           "zerolinecolor": "white",
           "zerolinewidth": 2
          },
          "yaxis": {
           "automargin": true,
           "gridcolor": "white",
           "linecolor": "white",
           "ticks": "",
           "title": {
            "standoff": 15
           },
           "zerolinecolor": "white",
           "zerolinewidth": 2
          }
         }
        },
        "title": {
         "text": "System Memory at times when >= 1 Device Non-Idle. Feb 15 - Mar 8 (8am - 10pm, weekdays). 15 million records (from 4 nodes)"
        },
        "xaxis": {
         "autorange": true,
         "range": [
          -0.5,
          19.5
         ],
         "title": {
          "text": "Utilization %"
         },
         "type": "category"
        },
        "yaxis": {
         "range": [
          0,
          1
         ],
         "title": {
          "text": "Density"
         },
         "type": "linear"
        }
       }
      },
      "image/png": "[encoded data removed]",
      "text/html": [
       "<div>                            <div id=\"33313c12-1109-4e40-8ca8-e7652087e755\" class=\"plotly-graph-div\" style=\"height:525px; width:100%;\"></div>            <script type=\"text/javascript\">                require([\"plotly\"], function(Plotly) {                    window.PLOTLYENV=window.PLOTLYENV || {};                                    if (document.getElementById(\"33313c12-1109-4e40-8ca8-e7652087e755\")) {                    Plotly.newPlot(                        \"33313c12-1109-4e40-8ca8-e7652087e755\",                        [{\"marker\":{\"color\":\"purple\"},\"name\":\"System Memory\",\"text\":[0.7781909766458627,0.17727364567541756,0.01679650208408403,0.013673362873396325,0.00811052487022784,0.004846855946350786,0.0011080658972802385,0.0,0.0,0.0,0.0,0.0,0.0,0.0,0.0,0.0,0.0,0.0,0.0,6.600738054924874e-08],\"textposition\":\"outside\",\"texttemplate\":\"%{text:.2f}\",\"x\":[\"[0, 5)\",\"[5, 10)\",\"[10, 15)\",\"[15, 20)\",\"[20, 25)\",\"[25, 30)\",\"[30, 35)\",\"[35, 40)\",\"[40, 45)\",\"[45, 50)\",\"[50, 55)\",\"[55, 60)\",\"[60, 65)\",\"[65, 70)\",\"[70, 75)\",\"[75, 80)\",\"[80, 85)\",\"[85, 90)\",\"[90, 95)\",\"[95, 100]\"],\"y\":[0.7781909766458627,0.17727364567541756,0.01679650208408403,0.013673362873396325,0.00811052487022784,0.004846855946350786,0.0011080658972802385,0.0,0.0,0.0,0.0,0.0,0.0,0.0,0.0,0.0,0.0,0.0,0.0,6.600738054924874e-08],\"type\":\"bar\"}],                        {\"template\":{\"data\":{\"histogram2dcontour\":[{\"type\":\"histogram2dcontour\",\"colorbar\":{\"outlinewidth\":0,\"ticks\":\"\"},\"colorscale\":[[0.0,\"#0d0887\"],[0.1111111111111111,\"#46039f\"],[0.2222222222222222,\"#7201a8\"],[0.3333333333333333,\"#9c179e\"],[0.4444444444444444,\"#bd3786\"],[0.5555555555555556,\"#d8576b\"],[0.6666666666666666,\"#ed7953\"],[0.7777777777777778,\"#fb9f3a\"],[0.8888888888888888,\"#fdca26\"],[1.0,\"#f0f921\"]]}],\"choropleth\":[{\"type\":\"choropleth\",\"colorbar\":{\"outlinewidth\":0,\"ticks\":\"\"}}],\"histogram2d\":[{\"type\":\"histogram2d\",\"colorbar\":{\"outlinewidth\":0,\"ticks\":\"\"},\"colorscale\":[[0.0,\"#0d0887\"],[0.1111111111111111,\"#46039f\"],[0.2222222222222222,\"#7201a8\"],[0.3333333333333333,\"#9c179e\"],[0.4444444444444444,\"#bd3786\"],[0.5555555555555556,\"#d8576b\"],[0.6666666666666666,\"#ed7953\"],[0.7777777777777778,\"#fb9f3a\"],[0.8888888888888888,\"#fdca26\"],[1.0,\"#f0f921\"]]}],\"heatmap\":[{\"type\":\"heatmap\",\"colorbar\":{\"outlinewidth\":0,\"ticks\":\"\"},\"colorscale\":[[0.0,\"#0d0887\"],[0.1111111111111111,\"#46039f\"],[0.2222222222222222,\"#7201a8\"],[0.3333333333333333,\"#9c179e\"],[0.4444444444444444,\"#bd3786\"],[0.5555555555555556,\"#d8576b\"],[0.6666666666666666,\"#ed7953\"],[0.7777777777777778,\"#fb9f3a\"],[0.8888888888888888,\"#fdca26\"],[1.0,\"#f0f921\"]]}],\"heatmapgl\":[{\"type\":\"heatmapgl\",\"colorbar\":{\"outlinewidth\":0,\"ticks\":\"\"},\"colorscale\":[[0.0,\"#0d0887\"],[0.1111111111111111,\"#46039f\"],[0.2222222222222222,\"#7201a8\"],[0.3333333333333333,\"#9c179e\"],[0.4444444444444444,\"#bd3786\"],[0.5555555555555556,\"#d8576b\"],[0.6666666666666666,\"#ed7953\"],[0.7777777777777778,\"#fb9f3a\"],[0.8888888888888888,\"#fdca26\"],[1.0,\"#f0f921\"]]}],\"contourcarpet\":[{\"type\":\"contourcarpet\",\"colorbar\":{\"outlinewidth\":0,\"ticks\":\"\"}}],\"contour\":[{\"type\":\"contour\",\"colorbar\":{\"outlinewidth\":0,\"ticks\":\"\"},\"colorscale\":[[0.0,\"#0d0887\"],[0.1111111111111111,\"#46039f\"],[0.2222222222222222,\"#7201a8\"],[0.3333333333333333,\"#9c179e\"],[0.4444444444444444,\"#bd3786\"],[0.5555555555555556,\"#d8576b\"],[0.6666666666666666,\"#ed7953\"],[0.7777777777777778,\"#fb9f3a\"],[0.8888888888888888,\"#fdca26\"],[1.0,\"#f0f921\"]]}],\"surface\":[{\"type\":\"surface\",\"colorbar\":{\"outlinewidth\":0,\"ticks\":\"\"},\"colorscale\":[[0.0,\"#0d0887\"],[0.1111111111111111,\"#46039f\"],[0.2222222222222222,\"#7201a8\"],[0.3333333333333333,\"#9c179e\"],[0.4444444444444444,\"#bd3786\"],[0.5555555555555556,\"#d8576b\"],[0.6666666666666666,\"#ed7953\"],[0.7777777777777778,\"#fb9f3a\"],[0.8888888888888888,\"#fdca26\"],[1.0,\"#f0f921\"]]}],\"mesh3d\":[{\"type\":\"mesh3d\",\"colorbar\":{\"outlinewidth\":0,\"ticks\":\"\"}}],\"scatter\":[{\"fillpattern\":{\"fillmode\":\"overlay\",\"size\":10,\"solidity\":0.2},\"type\":\"scatter\"}],\"parcoords\":[{\"type\":\"parcoords\",\"line\":{\"colorbar\":{\"outlinewidth\":0,\"ticks\":\"\"}}}],\"scatterpolargl\":[{\"type\":\"scatterpolargl\",\"marker\":{\"colorbar\":{\"outlinewidth\":0,\"ticks\":\"\"}}}],\"bar\":[{\"error_x\":{\"color\":\"#2a3f5f\"},\"error_y\":{\"color\":\"#2a3f5f\"},\"marker\":{\"line\":{\"color\":\"#E5ECF6\",\"width\":0.5},\"pattern\":{\"fillmode\":\"overlay\",\"size\":10,\"solidity\":0.2}},\"type\":\"bar\"}],\"scattergeo\":[{\"type\":\"scattergeo\",\"marker\":{\"colorbar\":{\"outlinewidth\":0,\"ticks\":\"\"}}}],\"scatterpolar\":[{\"type\":\"scatterpolar\",\"marker\":{\"colorbar\":{\"outlinewidth\":0,\"ticks\":\"\"}}}],\"histogram\":[{\"marker\":{\"pattern\":{\"fillmode\":\"overlay\",\"size\":10,\"solidity\":0.2}},\"type\":\"histogram\"}],\"scattergl\":[{\"type\":\"scattergl\",\"marker\":{\"colorbar\":{\"outlinewidth\":0,\"ticks\":\"\"}}}],\"scatter3d\":[{\"type\":\"scatter3d\",\"line\":{\"colorbar\":{\"outlinewidth\":0,\"ticks\":\"\"}},\"marker\":{\"colorbar\":{\"outlinewidth\":0,\"ticks\":\"\"}}}],\"scattermapbox\":[{\"type\":\"scattermapbox\",\"marker\":{\"colorbar\":{\"outlinewidth\":0,\"ticks\":\"\"}}}],\"scatterternary\":[{\"type\":\"scatterternary\",\"marker\":{\"colorbar\":{\"outlinewidth\":0,\"ticks\":\"\"}}}],\"scattercarpet\":[{\"type\":\"scattercarpet\",\"marker\":{\"colorbar\":{\"outlinewidth\":0,\"ticks\":\"\"}}}],\"carpet\":[{\"aaxis\":{\"endlinecolor\":\"#2a3f5f\",\"gridcolor\":\"white\",\"linecolor\":\"white\",\"minorgridcolor\":\"white\",\"startlinecolor\":\"#2a3f5f\"},\"baxis\":{\"endlinecolor\":\"#2a3f5f\",\"gridcolor\":\"white\",\"linecolor\":\"white\",\"minorgridcolor\":\"white\",\"startlinecolor\":\"#2a3f5f\"},\"type\":\"carpet\"}],\"table\":[{\"cells\":{\"fill\":{\"color\":\"#EBF0F8\"},\"line\":{\"color\":\"white\"}},\"header\":{\"fill\":{\"color\":\"#C8D4E3\"},\"line\":{\"color\":\"white\"}},\"type\":\"table\"}],\"barpolar\":[{\"marker\":{\"line\":{\"color\":\"#E5ECF6\",\"width\":0.5},\"pattern\":{\"fillmode\":\"overlay\",\"size\":10,\"solidity\":0.2}},\"type\":\"barpolar\"}],\"pie\":[{\"automargin\":true,\"type\":\"pie\"}]},\"layout\":{\"autotypenumbers\":\"strict\",\"colorway\":[\"#636efa\",\"#EF553B\",\"#00cc96\",\"#ab63fa\",\"#FFA15A\",\"#19d3f3\",\"#FF6692\",\"#B6E880\",\"#FF97FF\",\"#FECB52\"],\"font\":{\"color\":\"#2a3f5f\"},\"hovermode\":\"closest\",\"hoverlabel\":{\"align\":\"left\"},\"paper_bgcolor\":\"white\",\"plot_bgcolor\":\"#E5ECF6\",\"polar\":{\"bgcolor\":\"#E5ECF6\",\"angularaxis\":{\"gridcolor\":\"white\",\"linecolor\":\"white\",\"ticks\":\"\"},\"radialaxis\":{\"gridcolor\":\"white\",\"linecolor\":\"white\",\"ticks\":\"\"}},\"ternary\":{\"bgcolor\":\"#E5ECF6\",\"aaxis\":{\"gridcolor\":\"white\",\"linecolor\":\"white\",\"ticks\":\"\"},\"baxis\":{\"gridcolor\":\"white\",\"linecolor\":\"white\",\"ticks\":\"\"},\"caxis\":{\"gridcolor\":\"white\",\"linecolor\":\"white\",\"ticks\":\"\"}},\"coloraxis\":{\"colorbar\":{\"outlinewidth\":0,\"ticks\":\"\"}},\"colorscale\":{\"sequential\":[[0.0,\"#0d0887\"],[0.1111111111111111,\"#46039f\"],[0.2222222222222222,\"#7201a8\"],[0.3333333333333333,\"#9c179e\"],[0.4444444444444444,\"#bd3786\"],[0.5555555555555556,\"#d8576b\"],[0.6666666666666666,\"#ed7953\"],[0.7777777777777778,\"#fb9f3a\"],[0.8888888888888888,\"#fdca26\"],[1.0,\"#f0f921\"]],\"sequentialminus\":[[0.0,\"#0d0887\"],[0.1111111111111111,\"#46039f\"],[0.2222222222222222,\"#7201a8\"],[0.3333333333333333,\"#9c179e\"],[0.4444444444444444,\"#bd3786\"],[0.5555555555555556,\"#d8576b\"],[0.6666666666666666,\"#ed7953\"],[0.7777777777777778,\"#fb9f3a\"],[0.8888888888888888,\"#fdca26\"],[1.0,\"#f0f921\"]],\"diverging\":[[0,\"#8e0152\"],[0.1,\"#c51b7d\"],[0.2,\"#de77ae\"],[0.3,\"#f1b6da\"],[0.4,\"#fde0ef\"],[0.5,\"#f7f7f7\"],[0.6,\"#e6f5d0\"],[0.7,\"#b8e186\"],[0.8,\"#7fbc41\"],[0.9,\"#4d9221\"],[1,\"#276419\"]]},\"xaxis\":{\"gridcolor\":\"white\",\"linecolor\":\"white\",\"ticks\":\"\",\"title\":{\"standoff\":15},\"zerolinecolor\":\"white\",\"automargin\":true,\"zerolinewidth\":2},\"yaxis\":{\"gridcolor\":\"white\",\"linecolor\":\"white\",\"ticks\":\"\",\"title\":{\"standoff\":15},\"zerolinecolor\":\"white\",\"automargin\":true,\"zerolinewidth\":2},\"scene\":{\"xaxis\":{\"backgroundcolor\":\"#E5ECF6\",\"gridcolor\":\"white\",\"linecolor\":\"white\",\"showbackground\":true,\"ticks\":\"\",\"zerolinecolor\":\"white\",\"gridwidth\":2},\"yaxis\":{\"backgroundcolor\":\"#E5ECF6\",\"gridcolor\":\"white\",\"linecolor\":\"white\",\"showbackground\":true,\"ticks\":\"\",\"zerolinecolor\":\"white\",\"gridwidth\":2},\"zaxis\":{\"backgroundcolor\":\"#E5ECF6\",\"gridcolor\":\"white\",\"linecolor\":\"white\",\"showbackground\":true,\"ticks\":\"\",\"zerolinecolor\":\"white\",\"gridwidth\":2}},\"shapedefaults\":{\"line\":{\"color\":\"#2a3f5f\"}},\"annotationdefaults\":{\"arrowcolor\":\"#2a3f5f\",\"arrowhead\":0,\"arrowwidth\":1},\"geo\":{\"bgcolor\":\"white\",\"landcolor\":\"#E5ECF6\",\"subunitcolor\":\"white\",\"showland\":true,\"showlakes\":true,\"lakecolor\":\"white\"},\"title\":{\"x\":0.05},\"mapbox\":{\"style\":\"light\"}}},\"yaxis\":{\"title\":{\"text\":\"Density\"},\"range\":[0,1]},\"xaxis\":{\"title\":{\"text\":\"Utilization %\"}},\"title\":{\"text\":\"System Memory at times when \\u003e= 1 Device Non-Idle. Feb 15 - Mar 8 (8am - 10pm, weekdays). 15 million records (from 4 nodes)\"}},                        {\"responsive\": true}                    ).then(function(){\n",
       "                            \n",
       "var gd = document.getElementById('33313c12-1109-4e40-8ca8-e7652087e755');\n",
       "var x = new MutationObserver(function (mutations, observer) {{\n",
       "        var display = window.getComputedStyle(gd).display;\n",
       "        if (!display || display === 'none') {{\n",
       "            console.log([gd, 'removed!']);\n",
       "            Plotly.purge(gd);\n",
       "            observer.disconnect();\n",
       "        }}\n",
       "}});\n",
       "\n",
       "// Listen for the removal of the full notebook cells\n",
       "var notebookContainer = gd.closest('#notebook-container');\n",
       "if (notebookContainer) {{\n",
       "    x.observe(notebookContainer, {childList: true});\n",
       "}}\n",
       "\n",
       "// Listen for the clearing of the current output cell\n",
       "var outputEl = gd.closest('.output');\n",
       "if (outputEl) {{\n",
       "    x.observe(outputEl, {childList: true});\n",
       "}}\n",
       "\n",
       "                        })                };                });            </script>        </div>"
      ]
     },
     "metadata": {},
     "output_type": "display_data"
    }
   ],
   "source": [
    "vals_list = [workday_cpu_mem_vals]\n",
    "names = [\"System Memory\"]\n",
    "colors = [\"purple\"]\n",
    "title = \"System Memory at times when >= 1 Device Non-Idle. Feb 15 - Mar 8 (8am - 10pm, weekdays). 15 million records (from 4 nodes)\"\n",
    "y_range = [0, 1]\n",
    "workday_cpu_mem_fig = create_hist(vals_list, names, colors, title, y_range=y_range)\n",
    "workday_cpu_mem_fig.show()"
   ]
  },
  {
   "cell_type": "code",
   "execution_count": 55,
   "id": "a61b19db-ae87-4978-a253-a280bd360cd1",
   "metadata": {},
   "outputs": [
    {
     "data": {
      "application/vnd.plotly.v1+json": {
       "config": {
        "plotlyServerURL": "https://plot.ly"
       },
       "data": [
        {
         "marker": {
          "color": "goldenrod"
         },
         "name": "CPU Util",
         "text": [
          0.478159605613744,
          0.4228557729208364,
          0.06467279012856789,
          0.009972529042923155,
          0.023160212221691377,
          0.0003685192785814325,
          0.0002385507205433095,
          0.0004821840103953724,
          3.0363401065280125e-05,
          4.8845471278928896e-06,
          1.8086025851927725e-05,
          1.0429168191987521e-05,
          5.808650638575328e-06,
          1.8086025851927725e-05,
          1.0561182979227868e-06,
          8.580961170622644e-07,
          2.640295744806967e-07,
          0,
          0,
          0
         ],
         "textposition": "outside",
         "texttemplate": "%{text:.2f}",
         "type": "bar",
         "x": [
          "[0, 5)",
          "[5, 10)",
          "[10, 15)",
          "[15, 20)",
          "[20, 25)",
          "[25, 30)",
          "[30, 35)",
          "[35, 40)",
          "[40, 45)",
          "[45, 50)",
          "[50, 55)",
          "[55, 60)",
          "[60, 65)",
          "[65, 70)",
          "[70, 75)",
          "[75, 80)",
          "[80, 85)",
          "[85, 90)",
          "[90, 95)",
          "[95, 100]"
         ],
         "y": [
          0.478159605613744,
          0.4228557729208364,
          0.06467279012856789,
          0.009972529042923155,
          0.023160212221691377,
          0.0003685192785814325,
          0.0002385507205433095,
          0.0004821840103953724,
          3.0363401065280125e-05,
          4.8845471278928896e-06,
          1.8086025851927725e-05,
          1.0429168191987521e-05,
          5.808650638575328e-06,
          1.8086025851927725e-05,
          1.0561182979227868e-06,
          8.580961170622644e-07,
          2.640295744806967e-07,
          0,
          0,
          0
         ]
        }
       ],
       "layout": {
        "autosize": true,
        "template": {
         "data": {
          "bar": [
           {
            "error_x": {
             "color": "#2a3f5f"
            },
            "error_y": {
             "color": "#2a3f5f"
            },
            "marker": {
             "line": {
              "color": "#E5ECF6",
              "width": 0.5
             },
             "pattern": {
              "fillmode": "overlay",
              "size": 10,
              "solidity": 0.2
             }
            },
            "type": "bar"
           }
          ],
          "barpolar": [
           {
            "marker": {
             "line": {
              "color": "#E5ECF6",
              "width": 0.5
             },
             "pattern": {
              "fillmode": "overlay",
              "size": 10,
              "solidity": 0.2
             }
            },
            "type": "barpolar"
           }
          ],
          "carpet": [
           {
            "aaxis": {
             "endlinecolor": "#2a3f5f",
             "gridcolor": "white",
             "linecolor": "white",
             "minorgridcolor": "white",
             "startlinecolor": "#2a3f5f"
            },
            "baxis": {
             "endlinecolor": "#2a3f5f",
             "gridcolor": "white",
             "linecolor": "white",
             "minorgridcolor": "white",
             "startlinecolor": "#2a3f5f"
            },
            "type": "carpet"
           }
          ],
          "choropleth": [
           {
            "colorbar": {
             "outlinewidth": 0,
             "ticks": ""
            },
            "type": "choropleth"
           }
          ],
          "contour": [
           {
            "colorbar": {
             "outlinewidth": 0,
             "ticks": ""
            },
            "colorscale": [
             [
              0,
              "#0d0887"
             ],
             [
              0.1111111111111111,
              "#46039f"
             ],
             [
              0.2222222222222222,
              "#7201a8"
             ],
             [
              0.3333333333333333,
              "#9c179e"
             ],
             [
              0.4444444444444444,
              "#bd3786"
             ],
             [
              0.5555555555555556,
              "#d8576b"
             ],
             [
              0.6666666666666666,
              "#ed7953"
             ],
             [
              0.7777777777777778,
              "#fb9f3a"
             ],
             [
              0.8888888888888888,
              "#fdca26"
             ],
             [
              1,
              "#f0f921"
             ]
            ],
            "type": "contour"
           }
          ],
          "contourcarpet": [
           {
            "colorbar": {
             "outlinewidth": 0,
             "ticks": ""
            },
            "type": "contourcarpet"
           }
          ],
          "heatmap": [
           {
            "colorbar": {
             "outlinewidth": 0,
             "ticks": ""
            },
            "colorscale": [
             [
              0,
              "#0d0887"
             ],
             [
              0.1111111111111111,
              "#46039f"
             ],
             [
              0.2222222222222222,
              "#7201a8"
             ],
             [
              0.3333333333333333,
              "#9c179e"
             ],
             [
              0.4444444444444444,
              "#bd3786"
             ],
             [
              0.5555555555555556,
              "#d8576b"
             ],
             [
              0.6666666666666666,
              "#ed7953"
             ],
             [
              0.7777777777777778,
              "#fb9f3a"
             ],
             [
              0.8888888888888888,
              "#fdca26"
             ],
             [
              1,
              "#f0f921"
             ]
            ],
            "type": "heatmap"
           }
          ],
          "heatmapgl": [
           {
            "colorbar": {
             "outlinewidth": 0,
             "ticks": ""
            },
            "colorscale": [
             [
              0,
              "#0d0887"
             ],
             [
              0.1111111111111111,
              "#46039f"
             ],
             [
              0.2222222222222222,
              "#7201a8"
             ],
             [
              0.3333333333333333,
              "#9c179e"
             ],
             [
              0.4444444444444444,
              "#bd3786"
             ],
             [
              0.5555555555555556,
              "#d8576b"
             ],
             [
              0.6666666666666666,
              "#ed7953"
             ],
             [
              0.7777777777777778,
              "#fb9f3a"
             ],
             [
              0.8888888888888888,
              "#fdca26"
             ],
             [
              1,
              "#f0f921"
             ]
            ],
            "type": "heatmapgl"
           }
          ],
          "histogram": [
           {
            "marker": {
             "pattern": {
              "fillmode": "overlay",
              "size": 10,
              "solidity": 0.2
             }
            },
            "type": "histogram"
           }
          ],
          "histogram2d": [
           {
            "colorbar": {
             "outlinewidth": 0,
             "ticks": ""
            },
            "colorscale": [
             [
              0,
              "#0d0887"
             ],
             [
              0.1111111111111111,
              "#46039f"
             ],
             [
              0.2222222222222222,
              "#7201a8"
             ],
             [
              0.3333333333333333,
              "#9c179e"
             ],
             [
              0.4444444444444444,
              "#bd3786"
             ],
             [
              0.5555555555555556,
              "#d8576b"
             ],
             [
              0.6666666666666666,
              "#ed7953"
             ],
             [
              0.7777777777777778,
              "#fb9f3a"
             ],
             [
              0.8888888888888888,
              "#fdca26"
             ],
             [
              1,
              "#f0f921"
             ]
            ],
            "type": "histogram2d"
           }
          ],
          "histogram2dcontour": [
           {
            "colorbar": {
             "outlinewidth": 0,
             "ticks": ""
            },
            "colorscale": [
             [
              0,
              "#0d0887"
             ],
             [
              0.1111111111111111,
              "#46039f"
             ],
             [
              0.2222222222222222,
              "#7201a8"
             ],
             [
              0.3333333333333333,
              "#9c179e"
             ],
             [
              0.4444444444444444,
              "#bd3786"
             ],
             [
              0.5555555555555556,
              "#d8576b"
             ],
             [
              0.6666666666666666,
              "#ed7953"
             ],
             [
              0.7777777777777778,
              "#fb9f3a"
             ],
             [
              0.8888888888888888,
              "#fdca26"
             ],
             [
              1,
              "#f0f921"
             ]
            ],
            "type": "histogram2dcontour"
           }
          ],
          "mesh3d": [
           {
            "colorbar": {
             "outlinewidth": 0,
             "ticks": ""
            },
            "type": "mesh3d"
           }
          ],
          "parcoords": [
           {
            "line": {
             "colorbar": {
              "outlinewidth": 0,
              "ticks": ""
             }
            },
            "type": "parcoords"
           }
          ],
          "pie": [
           {
            "automargin": true,
            "type": "pie"
           }
          ],
          "scatter": [
           {
            "fillpattern": {
             "fillmode": "overlay",
             "size": 10,
             "solidity": 0.2
            },
            "type": "scatter"
           }
          ],
          "scatter3d": [
           {
            "line": {
             "colorbar": {
              "outlinewidth": 0,
              "ticks": ""
             }
            },
            "marker": {
             "colorbar": {
              "outlinewidth": 0,
              "ticks": ""
             }
            },
            "type": "scatter3d"
           }
          ],
          "scattercarpet": [
           {
            "marker": {
             "colorbar": {
              "outlinewidth": 0,
              "ticks": ""
             }
            },
            "type": "scattercarpet"
           }
          ],
          "scattergeo": [
           {
            "marker": {
             "colorbar": {
              "outlinewidth": 0,
              "ticks": ""
             }
            },
            "type": "scattergeo"
           }
          ],
          "scattergl": [
           {
            "marker": {
             "colorbar": {
              "outlinewidth": 0,
              "ticks": ""
             }
            },
            "type": "scattergl"
           }
          ],
          "scattermapbox": [
           {
            "marker": {
             "colorbar": {
              "outlinewidth": 0,
              "ticks": ""
             }
            },
            "type": "scattermapbox"
           }
          ],
          "scatterpolar": [
           {
            "marker": {
             "colorbar": {
              "outlinewidth": 0,
              "ticks": ""
             }
            },
            "type": "scatterpolar"
           }
          ],
          "scatterpolargl": [
           {
            "marker": {
             "colorbar": {
              "outlinewidth": 0,
              "ticks": ""
             }
            },
            "type": "scatterpolargl"
           }
          ],
          "scatterternary": [
           {
            "marker": {
             "colorbar": {
              "outlinewidth": 0,
              "ticks": ""
             }
            },
            "type": "scatterternary"
           }
          ],
          "surface": [
           {
            "colorbar": {
             "outlinewidth": 0,
             "ticks": ""
            },
            "colorscale": [
             [
              0,
              "#0d0887"
             ],
             [
              0.1111111111111111,
              "#46039f"
             ],
             [
              0.2222222222222222,
              "#7201a8"
             ],
             [
              0.3333333333333333,
              "#9c179e"
             ],
             [
              0.4444444444444444,
              "#bd3786"
             ],
             [
              0.5555555555555556,
              "#d8576b"
             ],
             [
              0.6666666666666666,
              "#ed7953"
             ],
             [
              0.7777777777777778,
              "#fb9f3a"
             ],
             [
              0.8888888888888888,
              "#fdca26"
             ],
             [
              1,
              "#f0f921"
             ]
            ],
            "type": "surface"
           }
          ],
          "table": [
           {
            "cells": {
             "fill": {
              "color": "#EBF0F8"
             },
             "line": {
              "color": "white"
             }
            },
            "header": {
             "fill": {
              "color": "#C8D4E3"
             },
             "line": {
              "color": "white"
             }
            },
            "type": "table"
           }
          ]
         },
         "layout": {
          "annotationdefaults": {
           "arrowcolor": "#2a3f5f",
           "arrowhead": 0,
           "arrowwidth": 1
          },
          "autotypenumbers": "strict",
          "coloraxis": {
           "colorbar": {
            "outlinewidth": 0,
            "ticks": ""
           }
          },
          "colorscale": {
           "diverging": [
            [
             0,
             "#8e0152"
            ],
            [
             0.1,
             "#c51b7d"
            ],
            [
             0.2,
             "#de77ae"
            ],
            [
             0.3,
             "#f1b6da"
            ],
            [
             0.4,
             "#fde0ef"
            ],
            [
             0.5,
             "#f7f7f7"
            ],
            [
             0.6,
             "#e6f5d0"
            ],
            [
             0.7,
             "#b8e186"
            ],
            [
             0.8,
             "#7fbc41"
            ],
            [
             0.9,
             "#4d9221"
            ],
            [
             1,
             "#276419"
            ]
           ],
           "sequential": [
            [
             0,
             "#0d0887"
            ],
            [
             0.1111111111111111,
             "#46039f"
            ],
            [
             0.2222222222222222,
             "#7201a8"
            ],
            [
             0.3333333333333333,
             "#9c179e"
            ],
            [
             0.4444444444444444,
             "#bd3786"
            ],
            [
             0.5555555555555556,
             "#d8576b"
            ],
            [
             0.6666666666666666,
             "#ed7953"
            ],
            [
             0.7777777777777778,
             "#fb9f3a"
            ],
            [
             0.8888888888888888,
             "#fdca26"
            ],
            [
             1,
             "#f0f921"
            ]
           ],
           "sequentialminus": [
            [
             0,
             "#0d0887"
            ],
            [
             0.1111111111111111,
             "#46039f"
            ],
            [
             0.2222222222222222,
             "#7201a8"
            ],
            [
             0.3333333333333333,
             "#9c179e"
            ],
            [
             0.4444444444444444,
             "#bd3786"
            ],
            [
             0.5555555555555556,
             "#d8576b"
            ],
            [
             0.6666666666666666,
             "#ed7953"
            ],
            [
             0.7777777777777778,
             "#fb9f3a"
            ],
            [
             0.8888888888888888,
             "#fdca26"
            ],
            [
             1,
             "#f0f921"
            ]
           ]
          },
          "colorway": [
           "#636efa",
           "#EF553B",
           "#00cc96",
           "#ab63fa",
           "#FFA15A",
           "#19d3f3",
           "#FF6692",
           "#B6E880",
           "#FF97FF",
           "#FECB52"
          ],
          "font": {
           "color": "#2a3f5f"
          },
          "geo": {
           "bgcolor": "white",
           "lakecolor": "white",
           "landcolor": "#E5ECF6",
           "showlakes": true,
           "showland": true,
           "subunitcolor": "white"
          },
          "hoverlabel": {
           "align": "left"
          },
          "hovermode": "closest",
          "mapbox": {
           "style": "light"
          },
          "paper_bgcolor": "white",
          "plot_bgcolor": "#E5ECF6",
          "polar": {
           "angularaxis": {
            "gridcolor": "white",
            "linecolor": "white",
            "ticks": ""
           },
           "bgcolor": "#E5ECF6",
           "radialaxis": {
            "gridcolor": "white",
            "linecolor": "white",
            "ticks": ""
           }
          },
          "scene": {
           "xaxis": {
            "backgroundcolor": "#E5ECF6",
            "gridcolor": "white",
            "gridwidth": 2,
            "linecolor": "white",
            "showbackground": true,
            "ticks": "",
            "zerolinecolor": "white"
           },
           "yaxis": {
            "backgroundcolor": "#E5ECF6",
            "gridcolor": "white",
            "gridwidth": 2,
            "linecolor": "white",
            "showbackground": true,
            "ticks": "",
            "zerolinecolor": "white"
           },
           "zaxis": {
            "backgroundcolor": "#E5ECF6",
            "gridcolor": "white",
            "gridwidth": 2,
            "linecolor": "white",
            "showbackground": true,
            "ticks": "",
            "zerolinecolor": "white"
           }
          },
          "shapedefaults": {
           "line": {
            "color": "#2a3f5f"
           }
          },
          "ternary": {
           "aaxis": {
            "gridcolor": "white",
            "linecolor": "white",
            "ticks": ""
           },
           "baxis": {
            "gridcolor": "white",
            "linecolor": "white",
            "ticks": ""
           },
           "bgcolor": "#E5ECF6",
           "caxis": {
            "gridcolor": "white",
            "linecolor": "white",
            "ticks": ""
           }
          },
          "title": {
           "x": 0.05
          },
          "xaxis": {
           "automargin": true,
           "gridcolor": "white",
           "linecolor": "white",
           "ticks": "",
           "title": {
            "standoff": 15
           },
           "zerolinecolor": "white",
           "zerolinewidth": 2
          },
          "yaxis": {
           "automargin": true,
           "gridcolor": "white",
           "linecolor": "white",
           "ticks": "",
           "title": {
            "standoff": 15
           },
           "zerolinecolor": "white",
           "zerolinewidth": 2
          }
         }
        },
        "title": {
         "text": "CPU Utilization at times when >= 1 Device Non-Idle. Feb 15 - Mar 8 (8am - 10pm, weekdays). 15 million records (from 4 nodes)"
        },
        "xaxis": {
         "autorange": true,
         "range": [
          -0.5,
          19.5
         ],
         "title": {
          "text": "Utilization %"
         },
         "type": "category"
        },
        "yaxis": {
         "range": [
          0,
          1
         ],
         "title": {
          "text": "Density"
         },
         "type": "linear"
        }
       }
      },
      "image/png": "[encoded data removed]",
      "text/html": [
       "<div>                            <div id=\"9915e993-6e58-47ba-b17b-3c8669f65700\" class=\"plotly-graph-div\" style=\"height:525px; width:100%;\"></div>            <script type=\"text/javascript\">                require([\"plotly\"], function(Plotly) {                    window.PLOTLYENV=window.PLOTLYENV || {};                                    if (document.getElementById(\"9915e993-6e58-47ba-b17b-3c8669f65700\")) {                    Plotly.newPlot(                        \"9915e993-6e58-47ba-b17b-3c8669f65700\",                        [{\"marker\":{\"color\":\"goldenrod\"},\"name\":\"CPU Util\",\"text\":[0.478159605613744,0.4228557729208364,0.06467279012856789,0.009972529042923155,0.023160212221691377,0.0003685192785814325,0.0002385507205433095,0.0004821840103953724,3.0363401065280125e-05,4.8845471278928896e-06,1.8086025851927725e-05,1.0429168191987521e-05,5.808650638575328e-06,1.8086025851927725e-05,1.0561182979227868e-06,8.580961170622644e-07,2.640295744806967e-07,0.0,0.0,0.0],\"textposition\":\"outside\",\"texttemplate\":\"%{text:.2f}\",\"x\":[\"[0, 5)\",\"[5, 10)\",\"[10, 15)\",\"[15, 20)\",\"[20, 25)\",\"[25, 30)\",\"[30, 35)\",\"[35, 40)\",\"[40, 45)\",\"[45, 50)\",\"[50, 55)\",\"[55, 60)\",\"[60, 65)\",\"[65, 70)\",\"[70, 75)\",\"[75, 80)\",\"[80, 85)\",\"[85, 90)\",\"[90, 95)\",\"[95, 100]\"],\"y\":[0.478159605613744,0.4228557729208364,0.06467279012856789,0.009972529042923155,0.023160212221691377,0.0003685192785814325,0.0002385507205433095,0.0004821840103953724,3.0363401065280125e-05,4.8845471278928896e-06,1.8086025851927725e-05,1.0429168191987521e-05,5.808650638575328e-06,1.8086025851927725e-05,1.0561182979227868e-06,8.580961170622644e-07,2.640295744806967e-07,0.0,0.0,0.0],\"type\":\"bar\"}],                        {\"template\":{\"data\":{\"histogram2dcontour\":[{\"type\":\"histogram2dcontour\",\"colorbar\":{\"outlinewidth\":0,\"ticks\":\"\"},\"colorscale\":[[0.0,\"#0d0887\"],[0.1111111111111111,\"#46039f\"],[0.2222222222222222,\"#7201a8\"],[0.3333333333333333,\"#9c179e\"],[0.4444444444444444,\"#bd3786\"],[0.5555555555555556,\"#d8576b\"],[0.6666666666666666,\"#ed7953\"],[0.7777777777777778,\"#fb9f3a\"],[0.8888888888888888,\"#fdca26\"],[1.0,\"#f0f921\"]]}],\"choropleth\":[{\"type\":\"choropleth\",\"colorbar\":{\"outlinewidth\":0,\"ticks\":\"\"}}],\"histogram2d\":[{\"type\":\"histogram2d\",\"colorbar\":{\"outlinewidth\":0,\"ticks\":\"\"},\"colorscale\":[[0.0,\"#0d0887\"],[0.1111111111111111,\"#46039f\"],[0.2222222222222222,\"#7201a8\"],[0.3333333333333333,\"#9c179e\"],[0.4444444444444444,\"#bd3786\"],[0.5555555555555556,\"#d8576b\"],[0.6666666666666666,\"#ed7953\"],[0.7777777777777778,\"#fb9f3a\"],[0.8888888888888888,\"#fdca26\"],[1.0,\"#f0f921\"]]}],\"heatmap\":[{\"type\":\"heatmap\",\"colorbar\":{\"outlinewidth\":0,\"ticks\":\"\"},\"colorscale\":[[0.0,\"#0d0887\"],[0.1111111111111111,\"#46039f\"],[0.2222222222222222,\"#7201a8\"],[0.3333333333333333,\"#9c179e\"],[0.4444444444444444,\"#bd3786\"],[0.5555555555555556,\"#d8576b\"],[0.6666666666666666,\"#ed7953\"],[0.7777777777777778,\"#fb9f3a\"],[0.8888888888888888,\"#fdca26\"],[1.0,\"#f0f921\"]]}],\"heatmapgl\":[{\"type\":\"heatmapgl\",\"colorbar\":{\"outlinewidth\":0,\"ticks\":\"\"},\"colorscale\":[[0.0,\"#0d0887\"],[0.1111111111111111,\"#46039f\"],[0.2222222222222222,\"#7201a8\"],[0.3333333333333333,\"#9c179e\"],[0.4444444444444444,\"#bd3786\"],[0.5555555555555556,\"#d8576b\"],[0.6666666666666666,\"#ed7953\"],[0.7777777777777778,\"#fb9f3a\"],[0.8888888888888888,\"#fdca26\"],[1.0,\"#f0f921\"]]}],\"contourcarpet\":[{\"type\":\"contourcarpet\",\"colorbar\":{\"outlinewidth\":0,\"ticks\":\"\"}}],\"contour\":[{\"type\":\"contour\",\"colorbar\":{\"outlinewidth\":0,\"ticks\":\"\"},\"colorscale\":[[0.0,\"#0d0887\"],[0.1111111111111111,\"#46039f\"],[0.2222222222222222,\"#7201a8\"],[0.3333333333333333,\"#9c179e\"],[0.4444444444444444,\"#bd3786\"],[0.5555555555555556,\"#d8576b\"],[0.6666666666666666,\"#ed7953\"],[0.7777777777777778,\"#fb9f3a\"],[0.8888888888888888,\"#fdca26\"],[1.0,\"#f0f921\"]]}],\"surface\":[{\"type\":\"surface\",\"colorbar\":{\"outlinewidth\":0,\"ticks\":\"\"},\"colorscale\":[[0.0,\"#0d0887\"],[0.1111111111111111,\"#46039f\"],[0.2222222222222222,\"#7201a8\"],[0.3333333333333333,\"#9c179e\"],[0.4444444444444444,\"#bd3786\"],[0.5555555555555556,\"#d8576b\"],[0.6666666666666666,\"#ed7953\"],[0.7777777777777778,\"#fb9f3a\"],[0.8888888888888888,\"#fdca26\"],[1.0,\"#f0f921\"]]}],\"mesh3d\":[{\"type\":\"mesh3d\",\"colorbar\":{\"outlinewidth\":0,\"ticks\":\"\"}}],\"scatter\":[{\"fillpattern\":{\"fillmode\":\"overlay\",\"size\":10,\"solidity\":0.2},\"type\":\"scatter\"}],\"parcoords\":[{\"type\":\"parcoords\",\"line\":{\"colorbar\":{\"outlinewidth\":0,\"ticks\":\"\"}}}],\"scatterpolargl\":[{\"type\":\"scatterpolargl\",\"marker\":{\"colorbar\":{\"outlinewidth\":0,\"ticks\":\"\"}}}],\"bar\":[{\"error_x\":{\"color\":\"#2a3f5f\"},\"error_y\":{\"color\":\"#2a3f5f\"},\"marker\":{\"line\":{\"color\":\"#E5ECF6\",\"width\":0.5},\"pattern\":{\"fillmode\":\"overlay\",\"size\":10,\"solidity\":0.2}},\"type\":\"bar\"}],\"scattergeo\":[{\"type\":\"scattergeo\",\"marker\":{\"colorbar\":{\"outlinewidth\":0,\"ticks\":\"\"}}}],\"scatterpolar\":[{\"type\":\"scatterpolar\",\"marker\":{\"colorbar\":{\"outlinewidth\":0,\"ticks\":\"\"}}}],\"histogram\":[{\"marker\":{\"pattern\":{\"fillmode\":\"overlay\",\"size\":10,\"solidity\":0.2}},\"type\":\"histogram\"}],\"scattergl\":[{\"type\":\"scattergl\",\"marker\":{\"colorbar\":{\"outlinewidth\":0,\"ticks\":\"\"}}}],\"scatter3d\":[{\"type\":\"scatter3d\",\"line\":{\"colorbar\":{\"outlinewidth\":0,\"ticks\":\"\"}},\"marker\":{\"colorbar\":{\"outlinewidth\":0,\"ticks\":\"\"}}}],\"scattermapbox\":[{\"type\":\"scattermapbox\",\"marker\":{\"colorbar\":{\"outlinewidth\":0,\"ticks\":\"\"}}}],\"scatterternary\":[{\"type\":\"scatterternary\",\"marker\":{\"colorbar\":{\"outlinewidth\":0,\"ticks\":\"\"}}}],\"scattercarpet\":[{\"type\":\"scattercarpet\",\"marker\":{\"colorbar\":{\"outlinewidth\":0,\"ticks\":\"\"}}}],\"carpet\":[{\"aaxis\":{\"endlinecolor\":\"#2a3f5f\",\"gridcolor\":\"white\",\"linecolor\":\"white\",\"minorgridcolor\":\"white\",\"startlinecolor\":\"#2a3f5f\"},\"baxis\":{\"endlinecolor\":\"#2a3f5f\",\"gridcolor\":\"white\",\"linecolor\":\"white\",\"minorgridcolor\":\"white\",\"startlinecolor\":\"#2a3f5f\"},\"type\":\"carpet\"}],\"table\":[{\"cells\":{\"fill\":{\"color\":\"#EBF0F8\"},\"line\":{\"color\":\"white\"}},\"header\":{\"fill\":{\"color\":\"#C8D4E3\"},\"line\":{\"color\":\"white\"}},\"type\":\"table\"}],\"barpolar\":[{\"marker\":{\"line\":{\"color\":\"#E5ECF6\",\"width\":0.5},\"pattern\":{\"fillmode\":\"overlay\",\"size\":10,\"solidity\":0.2}},\"type\":\"barpolar\"}],\"pie\":[{\"automargin\":true,\"type\":\"pie\"}]},\"layout\":{\"autotypenumbers\":\"strict\",\"colorway\":[\"#636efa\",\"#EF553B\",\"#00cc96\",\"#ab63fa\",\"#FFA15A\",\"#19d3f3\",\"#FF6692\",\"#B6E880\",\"#FF97FF\",\"#FECB52\"],\"font\":{\"color\":\"#2a3f5f\"},\"hovermode\":\"closest\",\"hoverlabel\":{\"align\":\"left\"},\"paper_bgcolor\":\"white\",\"plot_bgcolor\":\"#E5ECF6\",\"polar\":{\"bgcolor\":\"#E5ECF6\",\"angularaxis\":{\"gridcolor\":\"white\",\"linecolor\":\"white\",\"ticks\":\"\"},\"radialaxis\":{\"gridcolor\":\"white\",\"linecolor\":\"white\",\"ticks\":\"\"}},\"ternary\":{\"bgcolor\":\"#E5ECF6\",\"aaxis\":{\"gridcolor\":\"white\",\"linecolor\":\"white\",\"ticks\":\"\"},\"baxis\":{\"gridcolor\":\"white\",\"linecolor\":\"white\",\"ticks\":\"\"},\"caxis\":{\"gridcolor\":\"white\",\"linecolor\":\"white\",\"ticks\":\"\"}},\"coloraxis\":{\"colorbar\":{\"outlinewidth\":0,\"ticks\":\"\"}},\"colorscale\":{\"sequential\":[[0.0,\"#0d0887\"],[0.1111111111111111,\"#46039f\"],[0.2222222222222222,\"#7201a8\"],[0.3333333333333333,\"#9c179e\"],[0.4444444444444444,\"#bd3786\"],[0.5555555555555556,\"#d8576b\"],[0.6666666666666666,\"#ed7953\"],[0.7777777777777778,\"#fb9f3a\"],[0.8888888888888888,\"#fdca26\"],[1.0,\"#f0f921\"]],\"sequentialminus\":[[0.0,\"#0d0887\"],[0.1111111111111111,\"#46039f\"],[0.2222222222222222,\"#7201a8\"],[0.3333333333333333,\"#9c179e\"],[0.4444444444444444,\"#bd3786\"],[0.5555555555555556,\"#d8576b\"],[0.6666666666666666,\"#ed7953\"],[0.7777777777777778,\"#fb9f3a\"],[0.8888888888888888,\"#fdca26\"],[1.0,\"#f0f921\"]],\"diverging\":[[0,\"#8e0152\"],[0.1,\"#c51b7d\"],[0.2,\"#de77ae\"],[0.3,\"#f1b6da\"],[0.4,\"#fde0ef\"],[0.5,\"#f7f7f7\"],[0.6,\"#e6f5d0\"],[0.7,\"#b8e186\"],[0.8,\"#7fbc41\"],[0.9,\"#4d9221\"],[1,\"#276419\"]]},\"xaxis\":{\"gridcolor\":\"white\",\"linecolor\":\"white\",\"ticks\":\"\",\"title\":{\"standoff\":15},\"zerolinecolor\":\"white\",\"automargin\":true,\"zerolinewidth\":2},\"yaxis\":{\"gridcolor\":\"white\",\"linecolor\":\"white\",\"ticks\":\"\",\"title\":{\"standoff\":15},\"zerolinecolor\":\"white\",\"automargin\":true,\"zerolinewidth\":2},\"scene\":{\"xaxis\":{\"backgroundcolor\":\"#E5ECF6\",\"gridcolor\":\"white\",\"linecolor\":\"white\",\"showbackground\":true,\"ticks\":\"\",\"zerolinecolor\":\"white\",\"gridwidth\":2},\"yaxis\":{\"backgroundcolor\":\"#E5ECF6\",\"gridcolor\":\"white\",\"linecolor\":\"white\",\"showbackground\":true,\"ticks\":\"\",\"zerolinecolor\":\"white\",\"gridwidth\":2},\"zaxis\":{\"backgroundcolor\":\"#E5ECF6\",\"gridcolor\":\"white\",\"linecolor\":\"white\",\"showbackground\":true,\"ticks\":\"\",\"zerolinecolor\":\"white\",\"gridwidth\":2}},\"shapedefaults\":{\"line\":{\"color\":\"#2a3f5f\"}},\"annotationdefaults\":{\"arrowcolor\":\"#2a3f5f\",\"arrowhead\":0,\"arrowwidth\":1},\"geo\":{\"bgcolor\":\"white\",\"landcolor\":\"#E5ECF6\",\"subunitcolor\":\"white\",\"showland\":true,\"showlakes\":true,\"lakecolor\":\"white\"},\"title\":{\"x\":0.05},\"mapbox\":{\"style\":\"light\"}}},\"yaxis\":{\"title\":{\"text\":\"Density\"},\"range\":[0,1]},\"xaxis\":{\"title\":{\"text\":\"Utilization %\"}},\"title\":{\"text\":\"CPU Utilization at times when \\u003e= 1 Device Non-Idle. Feb 15 - Mar 8 (8am - 10pm, weekdays). 15 million records (from 4 nodes)\"}},                        {\"responsive\": true}                    ).then(function(){\n",
       "                            \n",
       "var gd = document.getElementById('9915e993-6e58-47ba-b17b-3c8669f65700');\n",
       "var x = new MutationObserver(function (mutations, observer) {{\n",
       "        var display = window.getComputedStyle(gd).display;\n",
       "        if (!display || display === 'none') {{\n",
       "            console.log([gd, 'removed!']);\n",
       "            Plotly.purge(gd);\n",
       "            observer.disconnect();\n",
       "        }}\n",
       "}});\n",
       "\n",
       "// Listen for the removal of the full notebook cells\n",
       "var notebookContainer = gd.closest('#notebook-container');\n",
       "if (notebookContainer) {{\n",
       "    x.observe(notebookContainer, {childList: true});\n",
       "}}\n",
       "\n",
       "// Listen for the clearing of the current output cell\n",
       "var outputEl = gd.closest('.output');\n",
       "if (outputEl) {{\n",
       "    x.observe(outputEl, {childList: true});\n",
       "}}\n",
       "\n",
       "                        })                };                });            </script>        </div>"
      ]
     },
     "metadata": {},
     "output_type": "display_data"
    }
   ],
   "source": [
    "vals_list = [workday_cpu_util_vals]\n",
    "names = [\"CPU Util\"]\n",
    "colors = [\"goldenrod\"]\n",
    "title = \"CPU Utilization at times when >= 1 Device Non-Idle. Feb 15 - Mar 8 (8am - 10pm, weekdays). 15 million records (from 4 nodes)\"\n",
    "y_range = [0, 1]\n",
    "workday_cpu_mem_fig = create_hist(vals_list, names, colors, title, y_range=y_range)\n",
    "workday_cpu_mem_fig.show()"
   ]
  },
  {
   "cell_type": "code",
   "execution_count": 22,
   "id": "2b24d0d5-6fd9-4a12-8dde-315f6e70f524",
   "metadata": {},
   "outputs": [
    {
     "data": {
      "text/plain": [
       "array([1024415, 1024415, 1024415, ..., 1054746, 1054746, 1054746])"
      ]
     },
     "execution_count": 22,
     "metadata": {},
     "output_type": "execute_result"
    }
   ],
   "source": [
    "workday_cpu_mem_vals"
   ]
  },
  {
   "cell_type": "code",
   "execution_count": null,
   "id": "5cd07394-9af4-4a8d-98f3-4df78c3a39b3",
   "metadata": {},
   "outputs": [],
   "source": [
    "vals_list = [workday_cpu_util_vals]\n",
    "names = [\"CPU Utilization\"]\n",
    "colors = [\"darkred\"]\n",
    "title = \"CPU Utilization at times when >= 1 Device Non-Idle. Feb 15 - Mar 8 (8am - 10pm, weekdays). 15 million records (from 4 nodes)\"\n",
    "y_range = [0, .3]\n",
    "workday_cpu_util_fig = create_hist(vals_list, names, colors, title, y_range=y_range)\n",
    "workday_cpu_util_fig.show()"
   ]
  },
  {
   "cell_type": "markdown",
   "id": "b1df89f1-aba4-4ab7-b550-d699dc6fc772",
   "metadata": {},
   "source": [
    "## Plotting Time Series\n",
    "#### Need to make sure not plotting too many points!"
   ]
  },
  {
   "cell_type": "code",
   "execution_count": null,
   "id": "a78cb1e6-8bda-451e-83cb-40e0808efe2c",
   "metadata": {},
   "outputs": [],
   "source": [
    "gpu_figs = {}\n",
    "for gpu_id, gpu_util_slice in gpu_slices.items():\n",
    "    gpu_smi = gpu_util_slice.loc[gpu_util_slice[\"field_id\"] == 203, :]\n",
    "    gpu_sm_active = gpu_util_slice.loc[gpu_util_slice[\"field_id\"] == 1002, :]\n",
    "    gpu_sm_active_vals = (gpu_sm_active[\"value\"] * 100).astype(np.int32)\n",
    "    \n",
    "    fig = go.Figure()\n",
    "    fig.add_trace(go.Scatter(x=gpu_smi[\"ms_from_start\"], y=gpu_smi[\"value\"].astype(np.int32),\n",
    "                    mode='lines+markers',\n",
    "                    name='nvidia-smi util',\n",
    "                    marker=dict(color=\"blue\")))\n",
    "    fig.add_trace(go.Scatter(x=gpu_sm_active[\"ms_from_start\"], y=gpu_sm_active_vals,\n",
    "                    mode='lines+markers',\n",
    "                    name='sm active',\n",
    "                    marker=dict(color=\"red\")))\n",
    "                  \n",
    "    fig.update_layout(\n",
    "        xaxis = dict(\n",
    "        title = \"Time (ms)\"\n",
    "        ),\n",
    "        yaxis = dict(\n",
    "            title = \"Utilization %\",\n",
    "        ),\n",
    "        title = \"GPU ID: \" + gpu_id\n",
    "    )\n",
    "    gpu_figs[gpu_id] = fig"
   ]
  }
 ],
 "metadata": {
  "kernelspec": {
   "display_name": "Python 3 (ipykernel)",
   "language": "python",
   "name": "python3"
  },
  "language_info": {
   "codemirror_mode": {
    "name": "ipython",
    "version": 3
   },
   "file_extension": ".py",
   "mimetype": "text/x-python",
   "name": "python",
   "nbconvert_exporter": "python",
   "pygments_lexer": "ipython3",
   "version": "3.10.12"
  }
 },
 "nbformat": 4,
 "nbformat_minor": 5
}
